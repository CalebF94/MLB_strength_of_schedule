{
 "cells": [
  {
   "cell_type": "code",
   "execution_count": 213,
   "id": "d6c92f47",
   "metadata": {},
   "outputs": [],
   "source": [
    "import pandas as pd\n",
    "import numpy as np\n",
    "\n",
    "df_game_data_in = pd.read_csv(\"./clean_data/game_results.csv\").drop(['Unnamed: 0'], axis=1)\n",
    "df_season_results_in = pd.read_csv(\"./clean_data/season_results.csv\").drop(['Unnamed: 0'], axis=1)\n",
    "\n",
    "df_game_data = df_game_data_in\n",
    "df_season_results = df_season_results_in"
   ]
  },
  {
   "cell_type": "markdown",
   "id": "1ad743ba",
   "metadata": {},
   "source": [
    "df_game_data has 12 columns. Attendance in NaN for 2020. Appears to be from future games or Covid games in 2020. Games that were walkoffs have W or L followed by wo in the win_loss_result column. Data types are messed up. "
   ]
  },
  {
   "cell_type": "code",
   "execution_count": 214,
   "id": "de352a5e",
   "metadata": {},
   "outputs": [
    {
     "data": {
      "text/html": [
       "<div>\n",
       "<style scoped>\n",
       "    .dataframe tbody tr th:only-of-type {\n",
       "        vertical-align: middle;\n",
       "    }\n",
       "\n",
       "    .dataframe tbody tr th {\n",
       "        vertical-align: top;\n",
       "    }\n",
       "\n",
       "    .dataframe thead th {\n",
       "        text-align: right;\n",
       "    }\n",
       "</style>\n",
       "<table border=\"1\" class=\"dataframe\">\n",
       "  <thead>\n",
       "    <tr style=\"text-align: right;\">\n",
       "      <th></th>\n",
       "      <th>Date</th>\n",
       "      <th>Team</th>\n",
       "      <th>H/A</th>\n",
       "      <th>Opponent</th>\n",
       "      <th>win_loss_result</th>\n",
       "      <th>Runs</th>\n",
       "      <th>Runs Allowed</th>\n",
       "      <th>Game Time</th>\n",
       "      <th>Day/Night</th>\n",
       "      <th>Attendance</th>\n",
       "      <th>Game Number</th>\n",
       "      <th>Year</th>\n",
       "    </tr>\n",
       "  </thead>\n",
       "  <tbody>\n",
       "    <tr>\n",
       "      <th>40</th>\n",
       "      <td>2020-09-06</td>\n",
       "      <td>ARI</td>\n",
       "      <td>A</td>\n",
       "      <td>SFG</td>\n",
       "      <td>L</td>\n",
       "      <td>2.0</td>\n",
       "      <td>4.0</td>\n",
       "      <td>2:52</td>\n",
       "      <td>D</td>\n",
       "      <td>NaN</td>\n",
       "      <td>41</td>\n",
       "      <td>2020</td>\n",
       "    </tr>\n",
       "    <tr>\n",
       "      <th>99</th>\n",
       "      <td>2020-09-06</td>\n",
       "      <td>ATL</td>\n",
       "      <td>H</td>\n",
       "      <td>WSN</td>\n",
       "      <td>W</td>\n",
       "      <td>10.0</td>\n",
       "      <td>3.0</td>\n",
       "      <td>3:26</td>\n",
       "      <td>D</td>\n",
       "      <td>NaN</td>\n",
       "      <td>40</td>\n",
       "      <td>2020</td>\n",
       "    </tr>\n",
       "    <tr>\n",
       "      <th>159</th>\n",
       "      <td>2020-09-06</td>\n",
       "      <td>BAL</td>\n",
       "      <td>H</td>\n",
       "      <td>NYY</td>\n",
       "      <td>W</td>\n",
       "      <td>5.0</td>\n",
       "      <td>1.0</td>\n",
       "      <td>3:02</td>\n",
       "      <td>D</td>\n",
       "      <td>NaN</td>\n",
       "      <td>40</td>\n",
       "      <td>2020</td>\n",
       "    </tr>\n",
       "    <tr>\n",
       "      <th>221</th>\n",
       "      <td>2020-09-06</td>\n",
       "      <td>BOS</td>\n",
       "      <td>H</td>\n",
       "      <td>TOR</td>\n",
       "      <td>L</td>\n",
       "      <td>8.0</td>\n",
       "      <td>10.0</td>\n",
       "      <td>4:23</td>\n",
       "      <td>D</td>\n",
       "      <td>NaN</td>\n",
       "      <td>42</td>\n",
       "      <td>2020</td>\n",
       "    </tr>\n",
       "    <tr>\n",
       "      <th>280</th>\n",
       "      <td>2020-09-06</td>\n",
       "      <td>CHC</td>\n",
       "      <td>H</td>\n",
       "      <td>STL</td>\n",
       "      <td>L</td>\n",
       "      <td>3.0</td>\n",
       "      <td>7.0</td>\n",
       "      <td>3:17</td>\n",
       "      <td>N</td>\n",
       "      <td>NaN</td>\n",
       "      <td>41</td>\n",
       "      <td>2020</td>\n",
       "    </tr>\n",
       "  </tbody>\n",
       "</table>\n",
       "</div>"
      ],
      "text/plain": [
       "           Date Team H/A Opponent win_loss_result  Runs  Runs Allowed  \\\n",
       "40   2020-09-06  ARI   A      SFG               L   2.0           4.0   \n",
       "99   2020-09-06  ATL   H      WSN               W  10.0           3.0   \n",
       "159  2020-09-06  BAL   H      NYY               W   5.0           1.0   \n",
       "221  2020-09-06  BOS   H      TOR               L   8.0          10.0   \n",
       "280  2020-09-06  CHC   H      STL               L   3.0           7.0   \n",
       "\n",
       "    Game Time Day/Night Attendance  Game Number  Year  \n",
       "40       2:52         D        NaN           41  2020  \n",
       "99       3:26         D        NaN           40  2020  \n",
       "159      3:02         D        NaN           40  2020  \n",
       "221      4:23         D        NaN           42  2020  \n",
       "280      3:17         N        NaN           41  2020  "
      ]
     },
     "execution_count": 214,
     "metadata": {},
     "output_type": "execute_result"
    }
   ],
   "source": [
    "df_game_data.head(-10)\n",
    "df_game_data[df_game_data[\"Date\"]== '2020-09-06'].head(5)"
   ]
  },
  {
   "cell_type": "markdown",
   "id": "de60283d",
   "metadata": {},
   "source": [
    "For this analysis I can focus only on games that have a result"
   ]
  },
  {
   "cell_type": "code",
   "execution_count": 215,
   "id": "20034468",
   "metadata": {},
   "outputs": [],
   "source": [
    "df_game_data = df_game_data[df_game_data['win_loss_result'].notna()]\n"
   ]
  },
  {
   "cell_type": "markdown",
   "id": "be533f7f",
   "metadata": {},
   "source": [
    "Need to resolve some data type issues so I can do math. Attendance has a comma "
   ]
  },
  {
   "cell_type": "code",
   "execution_count": 216,
   "id": "7b3690c0",
   "metadata": {},
   "outputs": [
    {
     "name": "stdout",
     "output_type": "stream",
     "text": [
      "average attendance: 26221.0\n"
     ]
    }
   ],
   "source": [
    "avg_attendance = round(df_game_data['Attendance'].str.replace(\",\", \"\").dropna().astype('int').mean(),0) #will use to impute missing attendance numbers\n",
    "print(f'average attendance: {avg_attendance}')\n",
    "\n",
    "#converting attendance into number and setting nulls to the average\n",
    "df_game_data.loc[:, 'Attendance'] = df_game_data['Attendance'].fillna(str(avg_attendance)).str.replace(\",\", \"\").astype('float').astype('int')\n",
    "\n",
    "#2020 had legit zero attendance...setting backto zero\n",
    "df_game_data.loc[:, 'Attendance'] = np.where(df_game_data['Date'] < '2021-01-01', 0, df_game_data['Attendance'])\n"
   ]
  },
  {
   "cell_type": "code",
   "execution_count": 217,
   "id": "2062de89",
   "metadata": {},
   "outputs": [
    {
     "data": {
      "text/plain": [
       "Date               datetime64[ns]\n",
       "Team               string[python]\n",
       "H/A                string[python]\n",
       "Opponent           string[python]\n",
       "win_loss_result    string[python]\n",
       "Runs                        int64\n",
       "Runs Allowed                int64\n",
       "Game Time          string[python]\n",
       "Day/Night          string[python]\n",
       "Attendance                  int64\n",
       "Game Number                 int64\n",
       "Year                        int64\n",
       "dtype: object"
      ]
     },
     "execution_count": 217,
     "metadata": {},
     "output_type": "execute_result"
    }
   ],
   "source": [
    "data_types = {\n",
    "    'Date': 'datetime64[ns]',\n",
    "    'Team': 'string',\n",
    "    'H/A': 'string',\n",
    "    'Opponent':'string',\n",
    "    'win_loss_result':'string',\n",
    "    'Runs': 'int',\n",
    "    'Runs Allowed': 'int',\n",
    "    'Game Time':'string',\n",
    "    'Day/Night': 'string',\n",
    "    'Attendance':'int',\n",
    "    'Game Number': 'int',\n",
    "    'Year':'int'\n",
    "}\n",
    "\n",
    "df_game_data = df_game_data.astype(data_types)\n",
    "df_game_data.dtypes"
   ]
  },
  {
   "cell_type": "markdown",
   "id": "bd0035b4",
   "metadata": {},
   "source": [
    "The season results looks good. The GB column -- for teams that won, or are in first in their division."
   ]
  },
  {
   "cell_type": "code",
   "execution_count": 33,
   "id": "529f1c41",
   "metadata": {},
   "outputs": [
    {
     "data": {
      "text/html": [
       "<div>\n",
       "<style scoped>\n",
       "    .dataframe tbody tr th:only-of-type {\n",
       "        vertical-align: middle;\n",
       "    }\n",
       "\n",
       "    .dataframe tbody tr th {\n",
       "        vertical-align: top;\n",
       "    }\n",
       "\n",
       "    .dataframe thead th {\n",
       "        text-align: right;\n",
       "    }\n",
       "</style>\n",
       "<table border=\"1\" class=\"dataframe\">\n",
       "  <thead>\n",
       "    <tr style=\"text-align: right;\">\n",
       "      <th></th>\n",
       "      <th>Season</th>\n",
       "      <th>Team Name</th>\n",
       "      <th>Wins</th>\n",
       "      <th>Losses</th>\n",
       "      <th>Win%</th>\n",
       "      <th>GB</th>\n",
       "      <th>Team</th>\n",
       "    </tr>\n",
       "  </thead>\n",
       "  <tbody>\n",
       "    <tr>\n",
       "      <th>0</th>\n",
       "      <td>2020</td>\n",
       "      <td>Tampa Bay Rays</td>\n",
       "      <td>40</td>\n",
       "      <td>20</td>\n",
       "      <td>0.667</td>\n",
       "      <td>--</td>\n",
       "      <td>TBR</td>\n",
       "    </tr>\n",
       "    <tr>\n",
       "      <th>1</th>\n",
       "      <td>2020</td>\n",
       "      <td>New York Yankees</td>\n",
       "      <td>33</td>\n",
       "      <td>27</td>\n",
       "      <td>0.550</td>\n",
       "      <td>7.0</td>\n",
       "      <td>NYY</td>\n",
       "    </tr>\n",
       "    <tr>\n",
       "      <th>2</th>\n",
       "      <td>2020</td>\n",
       "      <td>Toronto Blue Jays</td>\n",
       "      <td>32</td>\n",
       "      <td>28</td>\n",
       "      <td>0.533</td>\n",
       "      <td>8.0</td>\n",
       "      <td>TOR</td>\n",
       "    </tr>\n",
       "    <tr>\n",
       "      <th>3</th>\n",
       "      <td>2020</td>\n",
       "      <td>Baltimore Orioles</td>\n",
       "      <td>25</td>\n",
       "      <td>35</td>\n",
       "      <td>0.417</td>\n",
       "      <td>15.0</td>\n",
       "      <td>BAL</td>\n",
       "    </tr>\n",
       "    <tr>\n",
       "      <th>4</th>\n",
       "      <td>2020</td>\n",
       "      <td>Boston Red Sox</td>\n",
       "      <td>24</td>\n",
       "      <td>36</td>\n",
       "      <td>0.400</td>\n",
       "      <td>16.0</td>\n",
       "      <td>BOS</td>\n",
       "    </tr>\n",
       "    <tr>\n",
       "      <th>5</th>\n",
       "      <td>2020</td>\n",
       "      <td>Minnesota Twins</td>\n",
       "      <td>36</td>\n",
       "      <td>24</td>\n",
       "      <td>0.600</td>\n",
       "      <td>--</td>\n",
       "      <td>MIN</td>\n",
       "    </tr>\n",
       "    <tr>\n",
       "      <th>6</th>\n",
       "      <td>2020</td>\n",
       "      <td>Cleveland Indians</td>\n",
       "      <td>35</td>\n",
       "      <td>25</td>\n",
       "      <td>0.583</td>\n",
       "      <td>1.0</td>\n",
       "      <td>NaN</td>\n",
       "    </tr>\n",
       "    <tr>\n",
       "      <th>7</th>\n",
       "      <td>2020</td>\n",
       "      <td>Chicago White Sox</td>\n",
       "      <td>35</td>\n",
       "      <td>25</td>\n",
       "      <td>0.583</td>\n",
       "      <td>1.0</td>\n",
       "      <td>CHW</td>\n",
       "    </tr>\n",
       "    <tr>\n",
       "      <th>8</th>\n",
       "      <td>2020</td>\n",
       "      <td>Kansas City Royals</td>\n",
       "      <td>26</td>\n",
       "      <td>34</td>\n",
       "      <td>0.433</td>\n",
       "      <td>10.0</td>\n",
       "      <td>KCR</td>\n",
       "    </tr>\n",
       "    <tr>\n",
       "      <th>9</th>\n",
       "      <td>2020</td>\n",
       "      <td>Detroit Tigers</td>\n",
       "      <td>23</td>\n",
       "      <td>35</td>\n",
       "      <td>0.397</td>\n",
       "      <td>12.0</td>\n",
       "      <td>DET</td>\n",
       "    </tr>\n",
       "  </tbody>\n",
       "</table>\n",
       "</div>"
      ],
      "text/plain": [
       "   Season           Team Name  Wins  Losses   Win%    GB Team\n",
       "0    2020      Tampa Bay Rays    40      20  0.667    --  TBR\n",
       "1    2020    New York Yankees    33      27  0.550   7.0  NYY\n",
       "2    2020   Toronto Blue Jays    32      28  0.533   8.0  TOR\n",
       "3    2020   Baltimore Orioles    25      35  0.417  15.0  BAL\n",
       "4    2020      Boston Red Sox    24      36  0.400  16.0  BOS\n",
       "5    2020     Minnesota Twins    36      24  0.600    --  MIN\n",
       "6    2020   Cleveland Indians    35      25  0.583   1.0  NaN\n",
       "7    2020   Chicago White Sox    35      25  0.583   1.0  CHW\n",
       "8    2020  Kansas City Royals    26      34  0.433  10.0  KCR\n",
       "9    2020      Detroit Tigers    23      35  0.397  12.0  DET"
      ]
     },
     "execution_count": 33,
     "metadata": {},
     "output_type": "execute_result"
    }
   ],
   "source": [
    "df_season_results.head(10)"
   ]
  },
  {
   "cell_type": "code",
   "execution_count": 35,
   "id": "cb846eb6",
   "metadata": {},
   "outputs": [
    {
     "data": {
      "application/vnd.microsoft.datawrangler.viewer.v0+json": {
       "columns": [
        {
         "name": "index",
         "rawType": "int64",
         "type": "integer"
        },
        {
         "name": "Game Number",
         "rawType": "int64",
         "type": "integer"
        },
        {
         "name": "Date",
         "rawType": "object",
         "type": "string"
        },
        {
         "name": "Team_x",
         "rawType": "object",
         "type": "string"
        },
        {
         "name": "Opponent",
         "rawType": "object",
         "type": "string"
        },
        {
         "name": "Year",
         "rawType": "int64",
         "type": "integer"
        },
        {
         "name": "Previous Year",
         "rawType": "int64",
         "type": "integer"
        },
        {
         "name": "Season",
         "rawType": "float64",
         "type": "float"
        },
        {
         "name": "Win%",
         "rawType": "float64",
         "type": "float"
        }
       ],
       "conversionMethod": "pd.DataFrame",
       "ref": "99639f68-e645-45fe-b65c-7cf5a256b50f",
       "rows": [
        [
         "0",
         "1",
         "2020-07-24",
         "ARI",
         "SDP",
         "2020",
         "2019",
         null,
         null
        ],
        [
         "1",
         "2",
         "2020-07-25",
         "ARI",
         "SDP",
         "2020",
         "2019",
         null,
         null
        ],
        [
         "2",
         "3",
         "2020-07-26",
         "ARI",
         "SDP",
         "2020",
         "2019",
         null,
         null
        ],
        [
         "3",
         "4",
         "2020-07-27",
         "ARI",
         "SDP",
         "2020",
         "2019",
         null,
         null
        ],
        [
         "4",
         "5",
         "2020-07-28",
         "ARI",
         "TEX",
         "2020",
         "2019",
         null,
         null
        ]
       ],
       "shape": {
        "columns": 8,
        "rows": 5
       }
      },
      "text/html": [
       "<div>\n",
       "<style scoped>\n",
       "    .dataframe tbody tr th:only-of-type {\n",
       "        vertical-align: middle;\n",
       "    }\n",
       "\n",
       "    .dataframe tbody tr th {\n",
       "        vertical-align: top;\n",
       "    }\n",
       "\n",
       "    .dataframe thead th {\n",
       "        text-align: right;\n",
       "    }\n",
       "</style>\n",
       "<table border=\"1\" class=\"dataframe\">\n",
       "  <thead>\n",
       "    <tr style=\"text-align: right;\">\n",
       "      <th></th>\n",
       "      <th>Game Number</th>\n",
       "      <th>Date</th>\n",
       "      <th>Team_x</th>\n",
       "      <th>Opponent</th>\n",
       "      <th>Year</th>\n",
       "      <th>Previous Year</th>\n",
       "      <th>Season</th>\n",
       "      <th>Win%</th>\n",
       "    </tr>\n",
       "  </thead>\n",
       "  <tbody>\n",
       "    <tr>\n",
       "      <th>0</th>\n",
       "      <td>1</td>\n",
       "      <td>2020-07-24</td>\n",
       "      <td>ARI</td>\n",
       "      <td>SDP</td>\n",
       "      <td>2020</td>\n",
       "      <td>2019</td>\n",
       "      <td>NaN</td>\n",
       "      <td>NaN</td>\n",
       "    </tr>\n",
       "    <tr>\n",
       "      <th>1</th>\n",
       "      <td>2</td>\n",
       "      <td>2020-07-25</td>\n",
       "      <td>ARI</td>\n",
       "      <td>SDP</td>\n",
       "      <td>2020</td>\n",
       "      <td>2019</td>\n",
       "      <td>NaN</td>\n",
       "      <td>NaN</td>\n",
       "    </tr>\n",
       "    <tr>\n",
       "      <th>2</th>\n",
       "      <td>3</td>\n",
       "      <td>2020-07-26</td>\n",
       "      <td>ARI</td>\n",
       "      <td>SDP</td>\n",
       "      <td>2020</td>\n",
       "      <td>2019</td>\n",
       "      <td>NaN</td>\n",
       "      <td>NaN</td>\n",
       "    </tr>\n",
       "    <tr>\n",
       "      <th>3</th>\n",
       "      <td>4</td>\n",
       "      <td>2020-07-27</td>\n",
       "      <td>ARI</td>\n",
       "      <td>SDP</td>\n",
       "      <td>2020</td>\n",
       "      <td>2019</td>\n",
       "      <td>NaN</td>\n",
       "      <td>NaN</td>\n",
       "    </tr>\n",
       "    <tr>\n",
       "      <th>4</th>\n",
       "      <td>5</td>\n",
       "      <td>2020-07-28</td>\n",
       "      <td>ARI</td>\n",
       "      <td>TEX</td>\n",
       "      <td>2020</td>\n",
       "      <td>2019</td>\n",
       "      <td>NaN</td>\n",
       "      <td>NaN</td>\n",
       "    </tr>\n",
       "  </tbody>\n",
       "</table>\n",
       "</div>"
      ],
      "text/plain": [
       "   Game Number        Date Team_x Opponent  Year  Previous Year  Season  Win%\n",
       "0            1  2020-07-24    ARI      SDP  2020           2019     NaN   NaN\n",
       "1            2  2020-07-25    ARI      SDP  2020           2019     NaN   NaN\n",
       "2            3  2020-07-26    ARI      SDP  2020           2019     NaN   NaN\n",
       "3            4  2020-07-27    ARI      SDP  2020           2019     NaN   NaN\n",
       "4            5  2020-07-28    ARI      TEX  2020           2019     NaN   NaN"
      ]
     },
     "execution_count": 35,
     "metadata": {},
     "output_type": "execute_result"
    }
   ],
   "source": [
    "#join game_results with season results. \n",
    "game_data['Previous Year'] = game_data['Year'] - 1\n",
    "\n",
    "analysis_data = pd.merge(\n",
    "    game_data[['Game Number', 'Date', 'Team', 'Opponent','Year', 'Previous Year']], \n",
    "    season_results[['Season', 'Team', 'Win%']], \n",
    "    how='left', \n",
    "    left_on=['Opponent', 'Previous Year'], \n",
    "    right_on=['Team', 'Season'],   \n",
    "    ).drop(['Team_y'], axis=1)\n",
    "\n",
    "analysis_data.head()\n"
   ]
  },
  {
   "cell_type": "code",
   "execution_count": 45,
   "id": "0db7e9cf",
   "metadata": {},
   "outputs": [
    {
     "data": {
      "application/vnd.microsoft.datawrangler.viewer.v0+json": {
       "columns": [
        {
         "name": "('Team_x', 'Year')",
         "rawType": "object",
         "type": "string"
        },
        {
         "name": "Mean",
         "rawType": "float64",
         "type": "float"
        }
       ],
       "conversionMethod": "pd.DataFrame",
       "ref": "274b5d1d-97b3-4e38-9307-646ead1808c5",
       "rows": [
        [
         "('ARI', 2021)",
         "0.5125"
        ],
        [
         "('ARI', 2022)",
         "0.49333333333333335"
        ],
        [
         "('ARI', 2023)",
         "0.5416666666666666"
        ],
        [
         "('ARI', 2024)",
         "0.47846666666666665"
        ],
        [
         "('ARI', 2025)",
         "0.5140666666666667"
        ],
        [
         "('ATH', 2025)",
         "0.4593666666666667"
        ],
        [
         "('ATL', 2021)",
         "0.49846666666666667"
        ],
        [
         "('ATL', 2022)",
         "0.4829666666666667"
        ],
        [
         "('ATL', 2023)",
         "0.4966"
        ],
        [
         "('ATL', 2024)",
         "0.5157"
        ],
        [
         "('ATL', 2025)",
         "0.5106666666666667"
        ],
        [
         "('BAL', 2021)",
         "0.46187500000000004"
        ],
        [
         "('BAL', 2022)",
         "0.5337307692307692"
        ],
        [
         "('BAL', 2023)",
         "0.45423076923076927"
        ],
        [
         "('BAL', 2024)",
         "0.46166666666666667"
        ],
        [
         "('BAL', 2025)",
         "0.5089"
        ],
        [
         "('BOS', 2021)",
         "0.4944"
        ],
        [
         "('BOS', 2022)",
         "0.5125"
        ],
        [
         "('BOS', 2023)",
         "0.4892666666666667"
        ],
        [
         "('BOS', 2024)",
         "0.4985555555555556"
        ],
        [
         "('BOS', 2025)",
         "0.4505"
        ],
        [
         "('CHC', 2021)",
         "0.4871333333333333"
        ],
        [
         "('CHC', 2022)",
         "0.5227999999999999"
        ],
        [
         "('CHC', 2023)",
         "0.5195185185185186"
        ],
        [
         "('CHC', 2024)",
         "0.5142666666666666"
        ],
        [
         "('CHC', 2025)",
         "0.5626666666666666"
        ],
        [
         "('CHW', 2021)",
         "0.42304545454545456"
        ],
        [
         "('CHW', 2022)",
         "0.50864"
        ],
        [
         "('CHW', 2023)",
         "0.5252333333333333"
        ],
        [
         "('CHW', 2024)",
         "0.49323333333333336"
        ],
        [
         "('CHW', 2025)",
         "0.5065416666666667"
        ],
        [
         "('CIN', 2021)",
         "0.5008461538461538"
        ],
        [
         "('CIN', 2022)",
         "0.5300357142857143"
        ],
        [
         "('CIN', 2023)",
         "0.487925925925926"
        ],
        [
         "('CIN', 2024)",
         "0.5030666666666667"
        ],
        [
         "('CIN', 2025)",
         "0.4891666666666667"
        ],
        [
         "('CLE', 2021)",
         "0.5065000000000001"
        ],
        [
         "('CLE', 2022)",
         "0.5381481481481482"
        ],
        [
         "('CLE', 2023)",
         "0.48774074074074075"
        ],
        [
         "('CLE', 2024)",
         "0.5111739130434783"
        ],
        [
         "('CLE', 2025)",
         "0.4895"
        ],
        [
         "('COL', 2021)",
         "0.5156"
        ],
        [
         "('COL', 2022)",
         "0.4814333333333333"
        ],
        [
         "('COL', 2023)",
         "0.5073000000000001"
        ],
        [
         "('COL', 2024)",
         "0.5373333333333333"
        ],
        [
         "('COL', 2025)",
         "0.5362222222222223"
        ],
        [
         "('DET', 2021)",
         "0.48655"
        ],
        [
         "('DET', 2022)",
         "0.5294074074074074"
        ],
        [
         "('DET', 2023)",
         "0.5483999999999999"
        ],
        [
         "('DET', 2024)",
         "0.48844444444444446"
        ]
       ],
       "shape": {
        "columns": 1,
        "rows": 150
       }
      },
      "text/html": [
       "<div>\n",
       "<style scoped>\n",
       "    .dataframe tbody tr th:only-of-type {\n",
       "        vertical-align: middle;\n",
       "    }\n",
       "\n",
       "    .dataframe tbody tr th {\n",
       "        vertical-align: top;\n",
       "    }\n",
       "\n",
       "    .dataframe thead th {\n",
       "        text-align: right;\n",
       "    }\n",
       "</style>\n",
       "<table border=\"1\" class=\"dataframe\">\n",
       "  <thead>\n",
       "    <tr style=\"text-align: right;\">\n",
       "      <th></th>\n",
       "      <th></th>\n",
       "      <th>Mean</th>\n",
       "    </tr>\n",
       "    <tr>\n",
       "      <th>Team_x</th>\n",
       "      <th>Year</th>\n",
       "      <th></th>\n",
       "    </tr>\n",
       "  </thead>\n",
       "  <tbody>\n",
       "    <tr>\n",
       "      <th rowspan=\"5\" valign=\"top\">ARI</th>\n",
       "      <th>2021</th>\n",
       "      <td>0.512500</td>\n",
       "    </tr>\n",
       "    <tr>\n",
       "      <th>2022</th>\n",
       "      <td>0.493333</td>\n",
       "    </tr>\n",
       "    <tr>\n",
       "      <th>2023</th>\n",
       "      <td>0.541667</td>\n",
       "    </tr>\n",
       "    <tr>\n",
       "      <th>2024</th>\n",
       "      <td>0.478467</td>\n",
       "    </tr>\n",
       "    <tr>\n",
       "      <th>2025</th>\n",
       "      <td>0.514067</td>\n",
       "    </tr>\n",
       "    <tr>\n",
       "      <th>...</th>\n",
       "      <th>...</th>\n",
       "      <td>...</td>\n",
       "    </tr>\n",
       "    <tr>\n",
       "      <th rowspan=\"5\" valign=\"top\">WSN</th>\n",
       "      <th>2021</th>\n",
       "      <td>0.532833</td>\n",
       "    </tr>\n",
       "    <tr>\n",
       "      <th>2022</th>\n",
       "      <td>0.478000</td>\n",
       "    </tr>\n",
       "    <tr>\n",
       "      <th>2023</th>\n",
       "      <td>0.501833</td>\n",
       "    </tr>\n",
       "    <tr>\n",
       "      <th>2024</th>\n",
       "      <td>0.541296</td>\n",
       "    </tr>\n",
       "    <tr>\n",
       "      <th>2025</th>\n",
       "      <td>0.507167</td>\n",
       "    </tr>\n",
       "  </tbody>\n",
       "</table>\n",
       "<p>150 rows × 1 columns</p>\n",
       "</div>"
      ],
      "text/plain": [
       "                 Mean\n",
       "Team_x Year          \n",
       "ARI    2021  0.512500\n",
       "       2022  0.493333\n",
       "       2023  0.541667\n",
       "       2024  0.478467\n",
       "       2025  0.514067\n",
       "...               ...\n",
       "WSN    2021  0.532833\n",
       "       2022  0.478000\n",
       "       2023  0.501833\n",
       "       2024  0.541296\n",
       "       2025  0.507167\n",
       "\n",
       "[150 rows x 1 columns]"
      ]
     },
     "execution_count": 45,
     "metadata": {},
     "output_type": "execute_result"
    }
   ],
   "source": [
    "(analysis_data[(analysis_data['Date'] > '2021-01-01') & (analysis_data['Game Number'] <= 30)]\n",
    " .drop(['Previous Year', 'Season'], axis=1)\n",
    " .groupby(by = ['Team_x', 'Year'], group_keys=False)\n",
    " .agg(\n",
    "     Mean = ('Win%', np.mean)\n",
    " )\n",
    " #.agg(Mean = ('Mean', np.max))\n",
    " )\n"
   ]
  }
 ],
 "metadata": {
  "kernelspec": {
   "display_name": "venv",
   "language": "python",
   "name": "python3"
  },
  "language_info": {
   "codemirror_mode": {
    "name": "ipython",
    "version": 3
   },
   "file_extension": ".py",
   "mimetype": "text/x-python",
   "name": "python",
   "nbconvert_exporter": "python",
   "pygments_lexer": "ipython3",
   "version": "3.13.3"
  }
 },
 "nbformat": 4,
 "nbformat_minor": 5
}
