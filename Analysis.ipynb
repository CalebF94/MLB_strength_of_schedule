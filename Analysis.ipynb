{
 "cells": [
  {
   "cell_type": "markdown",
   "id": "ab153e5e",
   "metadata": {},
   "source": [
    "# Major League Baseball Strength of Schedule\n",
    "\n",
    "The 2025 MLB season began on March 25th in Tokyo, Japan when the Chicago Cubs played the defending World Series champions the Los Angeles Dodgers. Starting the season against the defending champs can be a tall task, and unfortunately for Cubs their schedule was expected to continue to be tough well into April and May. The Cubs opponents were a common talking point during Cubs broadcasts. It was often stated that the Cubs had the hardest strength of schedule (SOS) to open the 2025 season. Every time the broadcast began talking on SOS, I would ask myself a few questions: \n",
    "1. How is strengh of schedule measured\n",
    "2. How much harder is the Cubs schedule\n",
    "3. How does the 2025 season compare to previous seasons\n",
    "\n",
    "These questions led me to develop the following research questions\n",
    "1. Opponents previous season win percentage\n",
    "2. Opponents previous season run differential\n",
    "3. Who had the hardest 2025 opening schedule? What about easiest\n",
    "4. Distribution of previous years opponents win% "
   ]
  },
  {
   "cell_type": "code",
   "execution_count": 47,
   "id": "d6c92f47",
   "metadata": {},
   "outputs": [],
   "source": [
    "import pandas as pd\n",
    "import numpy as np\n",
    "\n",
    "df_game_data = pd.read_csv(\"./clean_data/game_results.csv\").drop(columns=['H/A', 'win_loss', 'game_time', 'day_night', 'attendance','game_length',])\n",
    "df_season_data = pd.read_csv(\"./clean_data/season_results.csv\").fillna({'teams': 'LAA'})"
   ]
  },
  {
   "cell_type": "markdown",
   "id": "0b0a329e",
   "metadata": {},
   "source": [
    "## Description of Data\n",
    "\n",
    "Add description of both tables here"
   ]
  },
  {
   "cell_type": "code",
   "execution_count": 48,
   "id": "5c7e2564",
   "metadata": {},
   "outputs": [
    {
     "name": "stdout",
     "output_type": "stream",
     "text": [
      "Dimensions of game data: (46740, 7)\n",
      "Dimensions of season data: (330, 7)\n"
     ]
    }
   ],
   "source": [
    "print(f'Dimensions of game data: {df_game_data.shape}')\n",
    "print(f'Dimensions of season data: {df_season_data.shape}')"
   ]
  },
  {
   "cell_type": "markdown",
   "id": "ff54c3e8",
   "metadata": {},
   "source": [
    "There was one blank value in the `df_season_data` caused by Los Angeles Angels because they changed their name"
   ]
  },
  {
   "cell_type": "code",
   "execution_count": 49,
   "id": "a8b338d5",
   "metadata": {},
   "outputs": [],
   "source": [
    "df_season_run_differential= (df_game_data\n",
    "                             .assign(run_differential = df_game_data['runs_scored']-df_game_data['runs_allowed'])\n",
    "                            .groupby(['team', 'season'])\n",
    "                            .agg('sum')\n",
    "                            .drop(columns='game_number')\n",
    "                            .reset_index()\n",
    "                            .replace({'team': 'OAK'}, 'ATH')\n",
    "                            )\n",
    "\n",
    "#adding the run scored, allowed, and differential to the season data\n",
    "df_season_data = pd.merge(df_season_data, df_season_run_differential, left_on=['teams', 'season'], right_on=['team', 'season']).drop(columns=['team'])\n"
   ]
  },
  {
   "cell_type": "markdown",
   "id": "5b44b939",
   "metadata": {},
   "source": [
    "## Merge description"
   ]
  },
  {
   "cell_type": "code",
   "execution_count": 56,
   "id": "f9dcd682",
   "metadata": {},
   "outputs": [
    {
     "data": {
      "application/vnd.microsoft.datawrangler.viewer.v0+json": {
       "columns": [
        {
         "name": "index",
         "rawType": "int64",
         "type": "integer"
        },
        {
         "name": "date",
         "rawType": "object",
         "type": "string"
        },
        {
         "name": "team",
         "rawType": "object",
         "type": "string"
        },
        {
         "name": "opponent",
         "rawType": "object",
         "type": "string"
        },
        {
         "name": "runs_scored",
         "rawType": "int64",
         "type": "integer"
        },
        {
         "name": "runs_allowed",
         "rawType": "int64",
         "type": "integer"
        },
        {
         "name": "game_number",
         "rawType": "int64",
         "type": "integer"
        },
        {
         "name": "season",
         "rawType": "int64",
         "type": "integer"
        },
        {
         "name": "opponent_win%",
         "rawType": "float64",
         "type": "float"
        },
        {
         "name": "opponent_run_differential",
         "rawType": "float64",
         "type": "float"
        }
       ],
       "conversionMethod": "pd.DataFrame",
       "ref": "51ace6f8-4bbc-4be6-9cbb-c69660610806",
       "rows": [
        [
         "4858",
         "2016-04-04",
         "ARI",
         "COL",
         "5",
         "10",
         "1",
         "2016",
         "0.42",
         "-107.0"
        ],
        [
         "4859",
         "2016-04-05",
         "ARI",
         "COL",
         "11",
         "6",
         "2",
         "2016",
         "0.42",
         "-107.0"
        ],
        [
         "4860",
         "2016-04-06",
         "ARI",
         "COL",
         "3",
         "4",
         "3",
         "2016",
         "0.42",
         "-107.0"
        ],
        [
         "4861",
         "2016-04-07",
         "ARI",
         "CHC",
         "6",
         "14",
         "4",
         "2016",
         "0.599",
         "81.0"
        ],
        [
         "4862",
         "2016-04-08",
         "ARI",
         "CHC",
         "3",
         "2",
         "5",
         "2016",
         "0.599",
         "81.0"
        ]
       ],
       "shape": {
        "columns": 9,
        "rows": 5
       }
      },
      "text/html": [
       "<div>\n",
       "<style scoped>\n",
       "    .dataframe tbody tr th:only-of-type {\n",
       "        vertical-align: middle;\n",
       "    }\n",
       "\n",
       "    .dataframe tbody tr th {\n",
       "        vertical-align: top;\n",
       "    }\n",
       "\n",
       "    .dataframe thead th {\n",
       "        text-align: right;\n",
       "    }\n",
       "</style>\n",
       "<table border=\"1\" class=\"dataframe\">\n",
       "  <thead>\n",
       "    <tr style=\"text-align: right;\">\n",
       "      <th></th>\n",
       "      <th>date</th>\n",
       "      <th>team</th>\n",
       "      <th>opponent</th>\n",
       "      <th>runs_scored</th>\n",
       "      <th>runs_allowed</th>\n",
       "      <th>game_number</th>\n",
       "      <th>season</th>\n",
       "      <th>opponent_win%</th>\n",
       "      <th>opponent_run_differential</th>\n",
       "    </tr>\n",
       "  </thead>\n",
       "  <tbody>\n",
       "    <tr>\n",
       "      <th>4858</th>\n",
       "      <td>2016-04-04</td>\n",
       "      <td>ARI</td>\n",
       "      <td>COL</td>\n",
       "      <td>5</td>\n",
       "      <td>10</td>\n",
       "      <td>1</td>\n",
       "      <td>2016</td>\n",
       "      <td>0.420</td>\n",
       "      <td>-107.0</td>\n",
       "    </tr>\n",
       "    <tr>\n",
       "      <th>4859</th>\n",
       "      <td>2016-04-05</td>\n",
       "      <td>ARI</td>\n",
       "      <td>COL</td>\n",
       "      <td>11</td>\n",
       "      <td>6</td>\n",
       "      <td>2</td>\n",
       "      <td>2016</td>\n",
       "      <td>0.420</td>\n",
       "      <td>-107.0</td>\n",
       "    </tr>\n",
       "    <tr>\n",
       "      <th>4860</th>\n",
       "      <td>2016-04-06</td>\n",
       "      <td>ARI</td>\n",
       "      <td>COL</td>\n",
       "      <td>3</td>\n",
       "      <td>4</td>\n",
       "      <td>3</td>\n",
       "      <td>2016</td>\n",
       "      <td>0.420</td>\n",
       "      <td>-107.0</td>\n",
       "    </tr>\n",
       "    <tr>\n",
       "      <th>4861</th>\n",
       "      <td>2016-04-07</td>\n",
       "      <td>ARI</td>\n",
       "      <td>CHC</td>\n",
       "      <td>6</td>\n",
       "      <td>14</td>\n",
       "      <td>4</td>\n",
       "      <td>2016</td>\n",
       "      <td>0.599</td>\n",
       "      <td>81.0</td>\n",
       "    </tr>\n",
       "    <tr>\n",
       "      <th>4862</th>\n",
       "      <td>2016-04-08</td>\n",
       "      <td>ARI</td>\n",
       "      <td>CHC</td>\n",
       "      <td>3</td>\n",
       "      <td>2</td>\n",
       "      <td>5</td>\n",
       "      <td>2016</td>\n",
       "      <td>0.599</td>\n",
       "      <td>81.0</td>\n",
       "    </tr>\n",
       "  </tbody>\n",
       "</table>\n",
       "</div>"
      ],
      "text/plain": [
       "            date team opponent  runs_scored  runs_allowed  game_number  \\\n",
       "4858  2016-04-04  ARI      COL            5            10            1   \n",
       "4859  2016-04-05  ARI      COL           11             6            2   \n",
       "4860  2016-04-06  ARI      COL            3             4            3   \n",
       "4861  2016-04-07  ARI      CHC            6            14            4   \n",
       "4862  2016-04-08  ARI      CHC            3             2            5   \n",
       "\n",
       "      season  opponent_win%  opponent_run_differential  \n",
       "4858    2016          0.420                     -107.0  \n",
       "4859    2016          0.420                     -107.0  \n",
       "4860    2016          0.420                     -107.0  \n",
       "4861    2016          0.599                       81.0  \n",
       "4862    2016          0.599                       81.0  "
      ]
     },
     "execution_count": 56,
     "metadata": {},
     "output_type": "execute_result"
    }
   ],
   "source": [
    "#join data on team and year\n",
    "# need to offset the season in the game data\n",
    "\n",
    "df_game_data = df_game_data.assign(previous_season=lambda x: x.season-1) \n",
    "\n",
    "df_merge_data = (\n",
    "    pd.merge(df_game_data, df_season_data.loc[:, ['teams', 'season', 'win_%', 'run_differential']], how='left', left_on=['opponent', 'previous_season'], right_on=['teams', 'season'])\n",
    "    .dropna(subset=['teams'])\n",
    "    .drop(columns=['season_y','previous_season', 'teams'])\n",
    "    .rename(columns={'win_%': 'opponent_win%', 'season_x': 'season', 'run_differential': 'opponent_run_differential'})\n",
    ")\n",
    "#6214 records => good\n",
    "\n",
    "df_merge_data.head()"
   ]
  },
  {
   "cell_type": "code",
   "execution_count": 70,
   "id": "fa05f51e",
   "metadata": {},
   "outputs": [
    {
     "data": {
      "application/vnd.microsoft.datawrangler.viewer.v0+json": {
       "columns": [
        {
         "name": "index",
         "rawType": "int64",
         "type": "integer"
        },
        {
         "name": "team",
         "rawType": "object",
         "type": "string"
        },
        {
         "name": "season",
         "rawType": "int64",
         "type": "integer"
        },
        {
         "name": "runs_scored",
         "rawType": "int64",
         "type": "integer"
        },
        {
         "name": "runs_allowed",
         "rawType": "int64",
         "type": "integer"
        },
        {
         "name": "opponent_win",
         "rawType": "float64",
         "type": "float"
        },
        {
         "name": "opponent_run_differential",
         "rawType": "float64",
         "type": "float"
        }
       ],
       "conversionMethod": "pd.DataFrame",
       "ref": "c0b2985a-186e-4769-bf8d-c1df20097f1e",
       "rows": [
        [
         "189",
         "NYY",
         "2024",
         "178",
         "124",
         "0.5497",
         "64.8333"
        ],
        [
         "98",
         "DET",
         "2023",
         "143",
         "183",
         "0.5482",
         "56.45"
        ],
        [
         "286",
         "TOR",
         "2022",
         "132",
         "143",
         "0.5468",
         "56.0811"
        ],
        [
         "2",
         "ARI",
         "2018",
         "164",
         "136",
         "0.5454",
         "63.3"
        ],
        [
         "156",
         "MIL",
         "2021",
         "143",
         "160",
         "0.5453",
         "21.65"
        ],
        [
         "201",
         "PHI",
         "2017",
         "183",
         "201",
         "0.5449",
         "65.875"
        ],
        [
         "50",
         "CHC",
         "2025",
         "231",
         "177",
         "0.5428",
         "61.125"
        ],
        [
         "273",
         "TEX",
         "2019",
         "199",
         "190",
         "0.5394",
         "62.0"
        ],
        [
         "122",
         "LAA",
         "2017",
         "114",
         "136",
         "0.5389",
         "31.7333"
        ],
        [
         "298",
         "WSN",
         "2024",
         "156",
         "160",
         "0.5374",
         "50.4595"
        ],
        [
         "244",
         "SFG",
         "2020",
         "194",
         "184",
         "0.5368",
         "66.7838"
        ],
        [
         "27",
         "BAL",
         "2022",
         "132",
         "158",
         "0.5362",
         "21.8056"
        ],
        [
         "261",
         "TBR",
         "2017",
         "180",
         "167",
         "0.5348",
         "51.825"
        ],
        [
         "3",
         "ARI",
         "2019",
         "202",
         "187",
         "0.5345",
         "54.35"
        ],
        [
         "276",
         "TEX",
         "2022",
         "151",
         "167",
         "0.5329",
         "48.5135"
        ],
        [
         "215",
         "PIT",
         "2021",
         "138",
         "182",
         "0.5328",
         "17.75"
        ],
        [
         "272",
         "TEX",
         "2018",
         "138",
         "185",
         "0.5326",
         "50.9697"
        ],
        [
         "24",
         "BAL",
         "2019",
         "137",
         "199",
         "0.5325",
         "36.0833"
        ],
        [
         "222",
         "SDP",
         "2018",
         "149",
         "198",
         "0.5322",
         "54.3"
        ],
        [
         "148",
         "MIA",
         "2023",
         "138",
         "196",
         "0.5308",
         "47.175"
        ],
        [
         "11",
         "ATL",
         "2016",
         "128",
         "202",
         "0.5302",
         "37.05"
        ],
        [
         "77",
         "CLE",
         "2022",
         "162",
         "164",
         "0.5301",
         "50.9189"
        ],
        [
         "9",
         "ARI",
         "2025",
         "205",
         "200",
         "0.5298",
         "50.05"
        ],
        [
         "89",
         "COL",
         "2024",
         "153",
         "220",
         "0.5294",
         "52.55"
        ],
        [
         "227",
         "SDP",
         "2023",
         "161",
         "167",
         "0.5291",
         "49.975"
        ],
        [
         "230",
         "SEA",
         "2016",
         "159",
         "122",
         "0.529",
         "41.2059"
        ],
        [
         "129",
         "LAA",
         "2024",
         "168",
         "203",
         "0.5277",
         "37.05"
        ],
        [
         "91",
         "DET",
         "2016",
         "155",
         "173",
         "0.5271",
         "41.0"
        ],
        [
         "242",
         "SFG",
         "2018",
         "156",
         "189",
         "0.5264",
         "24.325"
        ],
        [
         "90",
         "COL",
         "2025",
         "133",
         "261",
         "0.5262",
         "39.6"
        ],
        [
         "144",
         "MIA",
         "2019",
         "105",
         "200",
         "0.5262",
         "42.5"
        ],
        [
         "154",
         "MIL",
         "2019",
         "197",
         "188",
         "0.5258",
         "58.775"
        ],
        [
         "204",
         "PHI",
         "2020",
         "213",
         "218",
         "0.5252",
         "44.2"
        ],
        [
         "162",
         "MIN",
         "2017",
         "156",
         "170",
         "0.525",
         "21.1622"
        ],
        [
         "247",
         "SFG",
         "2023",
         "173",
         "200",
         "0.5243",
         "42.275"
        ],
        [
         "22",
         "BAL",
         "2017",
         "189",
         "177",
         "0.5237",
         "49.5"
        ],
        [
         "123",
         "LAA",
         "2018",
         "158",
         "137",
         "0.5237",
         "43.8788"
        ],
        [
         "15",
         "ATL",
         "2020",
         "222",
         "181",
         "0.5233",
         "41.85"
        ],
        [
         "231",
         "SEA",
         "2017",
         "161",
         "165",
         "0.5232",
         "13.4706"
        ],
        [
         "183",
         "NYY",
         "2018",
         "213",
         "148",
         "0.5228",
         "26.2703"
        ],
        [
         "86",
         "COL",
         "2021",
         "193",
         "218",
         "0.5226",
         "25.0"
        ],
        [
         "179",
         "NYM",
         "2024",
         "172",
         "172",
         "0.5226",
         "35.525"
        ],
        [
         "295",
         "WSN",
         "2021",
         "154",
         "172",
         "0.5226",
         "16.575"
        ],
        [
         "61",
         "CIN",
         "2016",
         "167",
         "239",
         "0.5223",
         "12.45"
        ],
        [
         "289",
         "TOR",
         "2025",
         "156",
         "178",
         "0.5223",
         "41.125"
        ],
        [
         "224",
         "SDP",
         "2020",
         "222",
         "174",
         "0.5223",
         "36.6667"
        ],
        [
         "125",
         "LAA",
         "2020",
         "151",
         "171",
         "0.5216",
         "30.3667"
        ],
        [
         "185",
         "NYY",
         "2020",
         "187",
         "178",
         "0.5216",
         "31.7"
        ],
        [
         "196",
         "OAK",
         "2021",
         "164",
         "172",
         "0.5214",
         "10.175"
        ],
        [
         "236",
         "SEA",
         "2022",
         "155",
         "176",
         "0.5212",
         "55.05"
        ]
       ],
       "shape": {
        "columns": 6,
        "rows": 300
       }
      },
      "text/html": [
       "<div>\n",
       "<style scoped>\n",
       "    .dataframe tbody tr th:only-of-type {\n",
       "        vertical-align: middle;\n",
       "    }\n",
       "\n",
       "    .dataframe tbody tr th {\n",
       "        vertical-align: top;\n",
       "    }\n",
       "\n",
       "    .dataframe thead th {\n",
       "        text-align: right;\n",
       "    }\n",
       "</style>\n",
       "<table border=\"1\" class=\"dataframe\">\n",
       "  <thead>\n",
       "    <tr style=\"text-align: right;\">\n",
       "      <th></th>\n",
       "      <th>team</th>\n",
       "      <th>season</th>\n",
       "      <th>runs_scored</th>\n",
       "      <th>runs_allowed</th>\n",
       "      <th>opponent_win</th>\n",
       "      <th>opponent_run_differential</th>\n",
       "    </tr>\n",
       "  </thead>\n",
       "  <tbody>\n",
       "    <tr>\n",
       "      <th>189</th>\n",
       "      <td>NYY</td>\n",
       "      <td>2024</td>\n",
       "      <td>178</td>\n",
       "      <td>124</td>\n",
       "      <td>0.5497</td>\n",
       "      <td>64.8333</td>\n",
       "    </tr>\n",
       "    <tr>\n",
       "      <th>98</th>\n",
       "      <td>DET</td>\n",
       "      <td>2023</td>\n",
       "      <td>143</td>\n",
       "      <td>183</td>\n",
       "      <td>0.5482</td>\n",
       "      <td>56.4500</td>\n",
       "    </tr>\n",
       "    <tr>\n",
       "      <th>286</th>\n",
       "      <td>TOR</td>\n",
       "      <td>2022</td>\n",
       "      <td>132</td>\n",
       "      <td>143</td>\n",
       "      <td>0.5468</td>\n",
       "      <td>56.0811</td>\n",
       "    </tr>\n",
       "    <tr>\n",
       "      <th>2</th>\n",
       "      <td>ARI</td>\n",
       "      <td>2018</td>\n",
       "      <td>164</td>\n",
       "      <td>136</td>\n",
       "      <td>0.5454</td>\n",
       "      <td>63.3000</td>\n",
       "    </tr>\n",
       "    <tr>\n",
       "      <th>156</th>\n",
       "      <td>MIL</td>\n",
       "      <td>2021</td>\n",
       "      <td>143</td>\n",
       "      <td>160</td>\n",
       "      <td>0.5453</td>\n",
       "      <td>21.6500</td>\n",
       "    </tr>\n",
       "    <tr>\n",
       "      <th>...</th>\n",
       "      <td>...</td>\n",
       "      <td>...</td>\n",
       "      <td>...</td>\n",
       "      <td>...</td>\n",
       "      <td>...</td>\n",
       "      <td>...</td>\n",
       "    </tr>\n",
       "    <tr>\n",
       "      <th>184</th>\n",
       "      <td>NYY</td>\n",
       "      <td>2019</td>\n",
       "      <td>200</td>\n",
       "      <td>164</td>\n",
       "      <td>0.4599</td>\n",
       "      <td>-61.4500</td>\n",
       "    </tr>\n",
       "    <tr>\n",
       "      <th>40</th>\n",
       "      <td>BOS</td>\n",
       "      <td>2025</td>\n",
       "      <td>192</td>\n",
       "      <td>174</td>\n",
       "      <td>0.4594</td>\n",
       "      <td>-62.7000</td>\n",
       "    </tr>\n",
       "    <tr>\n",
       "      <th>34</th>\n",
       "      <td>BOS</td>\n",
       "      <td>2019</td>\n",
       "      <td>179</td>\n",
       "      <td>165</td>\n",
       "      <td>0.4506</td>\n",
       "      <td>-88.2121</td>\n",
       "    </tr>\n",
       "    <tr>\n",
       "      <th>165</th>\n",
       "      <td>MIN</td>\n",
       "      <td>2020</td>\n",
       "      <td>175</td>\n",
       "      <td>140</td>\n",
       "      <td>0.4480</td>\n",
       "      <td>-94.8750</td>\n",
       "    </tr>\n",
       "    <tr>\n",
       "      <th>166</th>\n",
       "      <td>MIN</td>\n",
       "      <td>2021</td>\n",
       "      <td>160</td>\n",
       "      <td>177</td>\n",
       "      <td>0.4470</td>\n",
       "      <td>-30.8824</td>\n",
       "    </tr>\n",
       "  </tbody>\n",
       "</table>\n",
       "<p>300 rows × 6 columns</p>\n",
       "</div>"
      ],
      "text/plain": [
       "    team  season  runs_scored  runs_allowed  opponent_win  \\\n",
       "189  NYY    2024          178           124        0.5497   \n",
       "98   DET    2023          143           183        0.5482   \n",
       "286  TOR    2022          132           143        0.5468   \n",
       "2    ARI    2018          164           136        0.5454   \n",
       "156  MIL    2021          143           160        0.5453   \n",
       "..   ...     ...          ...           ...           ...   \n",
       "184  NYY    2019          200           164        0.4599   \n",
       "40   BOS    2025          192           174        0.4594   \n",
       "34   BOS    2019          179           165        0.4506   \n",
       "165  MIN    2020          175           140        0.4480   \n",
       "166  MIN    2021          160           177        0.4470   \n",
       "\n",
       "     opponent_run_differential  \n",
       "189                    64.8333  \n",
       "98                     56.4500  \n",
       "286                    56.0811  \n",
       "2                      63.3000  \n",
       "156                    21.6500  \n",
       "..                         ...  \n",
       "184                   -61.4500  \n",
       "40                    -62.7000  \n",
       "34                    -88.2121  \n",
       "165                   -94.8750  \n",
       "166                   -30.8824  \n",
       "\n",
       "[300 rows x 6 columns]"
      ]
     },
     "execution_count": 70,
     "metadata": {},
     "output_type": "execute_result"
    }
   ],
   "source": [
    "(df_merge_data\n",
    " .loc[df_merge_data['game_number']<=40]\n",
    " .groupby(['team', 'season'])\n",
    " .agg(\n",
    "     runs_scored = ('runs_scored', 'sum'),\n",
    "     runs_allowed = ('runs_allowed', 'sum'),\n",
    "     opponent_win= ('opponent_win%', 'mean'),\n",
    "     opponent_run_differential = ('opponent_run_differential', 'mean'),\n",
    "    )\n",
    ".round(4)\n",
    ".reset_index()\n",
    "#.columns(['team', 'season','runs_scored', 'runs_allowed', 'opponent_win%', 'opponent_run_differential'])\n",
    ".sort_values(by ='opponent_win', ascending=False)\n",
    ")"
   ]
  },
  {
   "cell_type": "code",
   "execution_count": null,
   "id": "96912f9a",
   "metadata": {},
   "outputs": [],
   "source": []
  }
 ],
 "metadata": {
  "kernelspec": {
   "display_name": "venv",
   "language": "python",
   "name": "python3"
  },
  "language_info": {
   "codemirror_mode": {
    "name": "ipython",
    "version": 3
   },
   "file_extension": ".py",
   "mimetype": "text/x-python",
   "name": "python",
   "nbconvert_exporter": "python",
   "pygments_lexer": "ipython3",
   "version": "3.7.4"
  }
 },
 "nbformat": 4,
 "nbformat_minor": 5
}
