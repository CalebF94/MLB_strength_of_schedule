{
 "cells": [
  {
   "cell_type": "code",
   "execution_count": null,
   "id": "d6c92f47",
   "metadata": {},
   "outputs": [],
   "source": [
    "import pandas as pd\n",
    "import numpy as np\n",
    "\n",
    "game_data = pd.read_csv(\"./clean_data/game_results.csv\")\n",
    "season_results = pd.read_csv(\"./clean_data/season_results.csv\")"
   ]
  },
  {
   "cell_type": "code",
   "execution_count": 7,
   "id": "de352a5e",
   "metadata": {},
   "outputs": [
    {
     "data": {
      "application/vnd.microsoft.datawrangler.viewer.v0+json": {
       "columns": [
        {
         "name": "index",
         "rawType": "int64",
         "type": "integer"
        },
        {
         "name": "Unnamed: 0",
         "rawType": "int64",
         "type": "integer"
        },
        {
         "name": "Date",
         "rawType": "object",
         "type": "string"
        },
        {
         "name": "Team",
         "rawType": "object",
         "type": "string"
        },
        {
         "name": "H/A",
         "rawType": "object",
         "type": "string"
        },
        {
         "name": "Opponent",
         "rawType": "object",
         "type": "string"
        },
        {
         "name": "win_loss_result",
         "rawType": "object",
         "type": "string"
        },
        {
         "name": "Runs",
         "rawType": "float64",
         "type": "float"
        },
        {
         "name": "Runs Allowed",
         "rawType": "float64",
         "type": "float"
        },
        {
         "name": "Game Time",
         "rawType": "object",
         "type": "string"
        },
        {
         "name": "Day/Night",
         "rawType": "object",
         "type": "string"
        },
        {
         "name": "Attendance",
         "rawType": "object",
         "type": "string"
        },
        {
         "name": "Game Number",
         "rawType": "int64",
         "type": "integer"
        },
        {
         "name": "Year",
         "rawType": "int64",
         "type": "integer"
        }
       ],
       "conversionMethod": "pd.DataFrame",
       "ref": "ebdddc3c-05fe-4d19-a2f9-0dea8ea067e1",
       "rows": [
        [
         "0",
         "0",
         "2020-07-24",
         "ARI",
         "A",
         "SDP",
         "L",
         "2.0",
         "7.0",
         "3:05",
         "N",
         null,
         "1",
         "2020"
        ],
        [
         "1",
         "1",
         "2020-07-25",
         "ARI",
         "A",
         "SDP",
         "L",
         "1.0",
         "5.0",
         "3:18",
         "N",
         null,
         "2",
         "2020"
        ],
        [
         "2",
         "2",
         "2020-07-26",
         "ARI",
         "A",
         "SDP",
         "W",
         "4.0",
         "3.0",
         "3:44",
         "D",
         null,
         "3",
         "2020"
        ],
        [
         "3",
         "3",
         "2020-07-27",
         "ARI",
         "A",
         "SDP",
         "L",
         "2.0",
         "6.0",
         "3:03",
         "D",
         null,
         "4",
         "2020"
        ],
        [
         "4",
         "4",
         "2020-07-28",
         "ARI",
         "A",
         "TEX",
         "W",
         "4.0",
         "1.0",
         "3:10",
         "N",
         null,
         "5",
         "2020"
        ]
       ],
       "shape": {
        "columns": 13,
        "rows": 5
       }
      },
      "text/html": [
       "<div>\n",
       "<style scoped>\n",
       "    .dataframe tbody tr th:only-of-type {\n",
       "        vertical-align: middle;\n",
       "    }\n",
       "\n",
       "    .dataframe tbody tr th {\n",
       "        vertical-align: top;\n",
       "    }\n",
       "\n",
       "    .dataframe thead th {\n",
       "        text-align: right;\n",
       "    }\n",
       "</style>\n",
       "<table border=\"1\" class=\"dataframe\">\n",
       "  <thead>\n",
       "    <tr style=\"text-align: right;\">\n",
       "      <th></th>\n",
       "      <th>Unnamed: 0</th>\n",
       "      <th>Date</th>\n",
       "      <th>Team</th>\n",
       "      <th>H/A</th>\n",
       "      <th>Opponent</th>\n",
       "      <th>win_loss_result</th>\n",
       "      <th>Runs</th>\n",
       "      <th>Runs Allowed</th>\n",
       "      <th>Game Time</th>\n",
       "      <th>Day/Night</th>\n",
       "      <th>Attendance</th>\n",
       "      <th>Game Number</th>\n",
       "      <th>Year</th>\n",
       "    </tr>\n",
       "  </thead>\n",
       "  <tbody>\n",
       "    <tr>\n",
       "      <th>0</th>\n",
       "      <td>0</td>\n",
       "      <td>2020-07-24</td>\n",
       "      <td>ARI</td>\n",
       "      <td>A</td>\n",
       "      <td>SDP</td>\n",
       "      <td>L</td>\n",
       "      <td>2.0</td>\n",
       "      <td>7.0</td>\n",
       "      <td>3:05</td>\n",
       "      <td>N</td>\n",
       "      <td>NaN</td>\n",
       "      <td>1</td>\n",
       "      <td>2020</td>\n",
       "    </tr>\n",
       "    <tr>\n",
       "      <th>1</th>\n",
       "      <td>1</td>\n",
       "      <td>2020-07-25</td>\n",
       "      <td>ARI</td>\n",
       "      <td>A</td>\n",
       "      <td>SDP</td>\n",
       "      <td>L</td>\n",
       "      <td>1.0</td>\n",
       "      <td>5.0</td>\n",
       "      <td>3:18</td>\n",
       "      <td>N</td>\n",
       "      <td>NaN</td>\n",
       "      <td>2</td>\n",
       "      <td>2020</td>\n",
       "    </tr>\n",
       "    <tr>\n",
       "      <th>2</th>\n",
       "      <td>2</td>\n",
       "      <td>2020-07-26</td>\n",
       "      <td>ARI</td>\n",
       "      <td>A</td>\n",
       "      <td>SDP</td>\n",
       "      <td>W</td>\n",
       "      <td>4.0</td>\n",
       "      <td>3.0</td>\n",
       "      <td>3:44</td>\n",
       "      <td>D</td>\n",
       "      <td>NaN</td>\n",
       "      <td>3</td>\n",
       "      <td>2020</td>\n",
       "    </tr>\n",
       "    <tr>\n",
       "      <th>3</th>\n",
       "      <td>3</td>\n",
       "      <td>2020-07-27</td>\n",
       "      <td>ARI</td>\n",
       "      <td>A</td>\n",
       "      <td>SDP</td>\n",
       "      <td>L</td>\n",
       "      <td>2.0</td>\n",
       "      <td>6.0</td>\n",
       "      <td>3:03</td>\n",
       "      <td>D</td>\n",
       "      <td>NaN</td>\n",
       "      <td>4</td>\n",
       "      <td>2020</td>\n",
       "    </tr>\n",
       "    <tr>\n",
       "      <th>4</th>\n",
       "      <td>4</td>\n",
       "      <td>2020-07-28</td>\n",
       "      <td>ARI</td>\n",
       "      <td>A</td>\n",
       "      <td>TEX</td>\n",
       "      <td>W</td>\n",
       "      <td>4.0</td>\n",
       "      <td>1.0</td>\n",
       "      <td>3:10</td>\n",
       "      <td>N</td>\n",
       "      <td>NaN</td>\n",
       "      <td>5</td>\n",
       "      <td>2020</td>\n",
       "    </tr>\n",
       "  </tbody>\n",
       "</table>\n",
       "</div>"
      ],
      "text/plain": [
       "   Unnamed: 0        Date Team H/A Opponent win_loss_result  Runs  \\\n",
       "0           0  2020-07-24  ARI   A      SDP               L   2.0   \n",
       "1           1  2020-07-25  ARI   A      SDP               L   1.0   \n",
       "2           2  2020-07-26  ARI   A      SDP               W   4.0   \n",
       "3           3  2020-07-27  ARI   A      SDP               L   2.0   \n",
       "4           4  2020-07-28  ARI   A      TEX               W   4.0   \n",
       "\n",
       "   Runs Allowed Game Time Day/Night Attendance  Game Number  Year  \n",
       "0           7.0      3:05         N        NaN            1  2020  \n",
       "1           5.0      3:18         N        NaN            2  2020  \n",
       "2           3.0      3:44         D        NaN            3  2020  \n",
       "3           6.0      3:03         D        NaN            4  2020  \n",
       "4           1.0      3:10         N        NaN            5  2020  "
      ]
     },
     "execution_count": 7,
     "metadata": {},
     "output_type": "execute_result"
    }
   ],
   "source": [
    "game_data.head()"
   ]
  },
  {
   "cell_type": "code",
   "execution_count": 9,
   "id": "529f1c41",
   "metadata": {},
   "outputs": [
    {
     "data": {
      "application/vnd.microsoft.datawrangler.viewer.v0+json": {
       "columns": [
        {
         "name": "index",
         "rawType": "int64",
         "type": "integer"
        },
        {
         "name": "Unnamed: 0",
         "rawType": "int64",
         "type": "integer"
        },
        {
         "name": "Season",
         "rawType": "int64",
         "type": "integer"
        },
        {
         "name": "Team Name",
         "rawType": "object",
         "type": "string"
        },
        {
         "name": "Wins",
         "rawType": "int64",
         "type": "integer"
        },
        {
         "name": "Losses",
         "rawType": "int64",
         "type": "integer"
        },
        {
         "name": "Win%",
         "rawType": "float64",
         "type": "float"
        },
        {
         "name": "GB",
         "rawType": "object",
         "type": "string"
        },
        {
         "name": "Team",
         "rawType": "object",
         "type": "string"
        }
       ],
       "conversionMethod": "pd.DataFrame",
       "ref": "b7c6bb57-1422-4df8-8447-519e99936c19",
       "rows": [
        [
         "0",
         "0",
         "2020",
         "Tampa Bay Rays",
         "40",
         "20",
         "0.667",
         "--",
         "TBR"
        ],
        [
         "1",
         "1",
         "2020",
         "New York Yankees",
         "33",
         "27",
         "0.55",
         "7.0",
         "NYY"
        ],
        [
         "2",
         "2",
         "2020",
         "Toronto Blue Jays",
         "32",
         "28",
         "0.533",
         "8.0",
         "TOR"
        ],
        [
         "3",
         "3",
         "2020",
         "Baltimore Orioles",
         "25",
         "35",
         "0.417",
         "15.0",
         "BAL"
        ],
        [
         "4",
         "4",
         "2020",
         "Boston Red Sox",
         "24",
         "36",
         "0.4",
         "16.0",
         "BOS"
        ]
       ],
       "shape": {
        "columns": 8,
        "rows": 5
       }
      },
      "text/html": [
       "<div>\n",
       "<style scoped>\n",
       "    .dataframe tbody tr th:only-of-type {\n",
       "        vertical-align: middle;\n",
       "    }\n",
       "\n",
       "    .dataframe tbody tr th {\n",
       "        vertical-align: top;\n",
       "    }\n",
       "\n",
       "    .dataframe thead th {\n",
       "        text-align: right;\n",
       "    }\n",
       "</style>\n",
       "<table border=\"1\" class=\"dataframe\">\n",
       "  <thead>\n",
       "    <tr style=\"text-align: right;\">\n",
       "      <th></th>\n",
       "      <th>Unnamed: 0</th>\n",
       "      <th>Season</th>\n",
       "      <th>Team Name</th>\n",
       "      <th>Wins</th>\n",
       "      <th>Losses</th>\n",
       "      <th>Win%</th>\n",
       "      <th>GB</th>\n",
       "      <th>Team</th>\n",
       "    </tr>\n",
       "  </thead>\n",
       "  <tbody>\n",
       "    <tr>\n",
       "      <th>0</th>\n",
       "      <td>0</td>\n",
       "      <td>2020</td>\n",
       "      <td>Tampa Bay Rays</td>\n",
       "      <td>40</td>\n",
       "      <td>20</td>\n",
       "      <td>0.667</td>\n",
       "      <td>--</td>\n",
       "      <td>TBR</td>\n",
       "    </tr>\n",
       "    <tr>\n",
       "      <th>1</th>\n",
       "      <td>1</td>\n",
       "      <td>2020</td>\n",
       "      <td>New York Yankees</td>\n",
       "      <td>33</td>\n",
       "      <td>27</td>\n",
       "      <td>0.550</td>\n",
       "      <td>7.0</td>\n",
       "      <td>NYY</td>\n",
       "    </tr>\n",
       "    <tr>\n",
       "      <th>2</th>\n",
       "      <td>2</td>\n",
       "      <td>2020</td>\n",
       "      <td>Toronto Blue Jays</td>\n",
       "      <td>32</td>\n",
       "      <td>28</td>\n",
       "      <td>0.533</td>\n",
       "      <td>8.0</td>\n",
       "      <td>TOR</td>\n",
       "    </tr>\n",
       "    <tr>\n",
       "      <th>3</th>\n",
       "      <td>3</td>\n",
       "      <td>2020</td>\n",
       "      <td>Baltimore Orioles</td>\n",
       "      <td>25</td>\n",
       "      <td>35</td>\n",
       "      <td>0.417</td>\n",
       "      <td>15.0</td>\n",
       "      <td>BAL</td>\n",
       "    </tr>\n",
       "    <tr>\n",
       "      <th>4</th>\n",
       "      <td>4</td>\n",
       "      <td>2020</td>\n",
       "      <td>Boston Red Sox</td>\n",
       "      <td>24</td>\n",
       "      <td>36</td>\n",
       "      <td>0.400</td>\n",
       "      <td>16.0</td>\n",
       "      <td>BOS</td>\n",
       "    </tr>\n",
       "  </tbody>\n",
       "</table>\n",
       "</div>"
      ],
      "text/plain": [
       "   Unnamed: 0  Season          Team Name  Wins  Losses   Win%    GB Team\n",
       "0           0    2020     Tampa Bay Rays    40      20  0.667    --  TBR\n",
       "1           1    2020   New York Yankees    33      27  0.550   7.0  NYY\n",
       "2           2    2020  Toronto Blue Jays    32      28  0.533   8.0  TOR\n",
       "3           3    2020  Baltimore Orioles    25      35  0.417  15.0  BAL\n",
       "4           4    2020     Boston Red Sox    24      36  0.400  16.0  BOS"
      ]
     },
     "execution_count": 9,
     "metadata": {},
     "output_type": "execute_result"
    }
   ],
   "source": [
    "season_results.head()"
   ]
  },
  {
   "cell_type": "code",
   "execution_count": 35,
   "id": "cb846eb6",
   "metadata": {},
   "outputs": [
    {
     "data": {
      "application/vnd.microsoft.datawrangler.viewer.v0+json": {
       "columns": [
        {
         "name": "index",
         "rawType": "int64",
         "type": "integer"
        },
        {
         "name": "Game Number",
         "rawType": "int64",
         "type": "integer"
        },
        {
         "name": "Date",
         "rawType": "object",
         "type": "string"
        },
        {
         "name": "Team_x",
         "rawType": "object",
         "type": "string"
        },
        {
         "name": "Opponent",
         "rawType": "object",
         "type": "string"
        },
        {
         "name": "Year",
         "rawType": "int64",
         "type": "integer"
        },
        {
         "name": "Previous Year",
         "rawType": "int64",
         "type": "integer"
        },
        {
         "name": "Season",
         "rawType": "float64",
         "type": "float"
        },
        {
         "name": "Win%",
         "rawType": "float64",
         "type": "float"
        }
       ],
       "conversionMethod": "pd.DataFrame",
       "ref": "99639f68-e645-45fe-b65c-7cf5a256b50f",
       "rows": [
        [
         "0",
         "1",
         "2020-07-24",
         "ARI",
         "SDP",
         "2020",
         "2019",
         null,
         null
        ],
        [
         "1",
         "2",
         "2020-07-25",
         "ARI",
         "SDP",
         "2020",
         "2019",
         null,
         null
        ],
        [
         "2",
         "3",
         "2020-07-26",
         "ARI",
         "SDP",
         "2020",
         "2019",
         null,
         null
        ],
        [
         "3",
         "4",
         "2020-07-27",
         "ARI",
         "SDP",
         "2020",
         "2019",
         null,
         null
        ],
        [
         "4",
         "5",
         "2020-07-28",
         "ARI",
         "TEX",
         "2020",
         "2019",
         null,
         null
        ]
       ],
       "shape": {
        "columns": 8,
        "rows": 5
       }
      },
      "text/html": [
       "<div>\n",
       "<style scoped>\n",
       "    .dataframe tbody tr th:only-of-type {\n",
       "        vertical-align: middle;\n",
       "    }\n",
       "\n",
       "    .dataframe tbody tr th {\n",
       "        vertical-align: top;\n",
       "    }\n",
       "\n",
       "    .dataframe thead th {\n",
       "        text-align: right;\n",
       "    }\n",
       "</style>\n",
       "<table border=\"1\" class=\"dataframe\">\n",
       "  <thead>\n",
       "    <tr style=\"text-align: right;\">\n",
       "      <th></th>\n",
       "      <th>Game Number</th>\n",
       "      <th>Date</th>\n",
       "      <th>Team_x</th>\n",
       "      <th>Opponent</th>\n",
       "      <th>Year</th>\n",
       "      <th>Previous Year</th>\n",
       "      <th>Season</th>\n",
       "      <th>Win%</th>\n",
       "    </tr>\n",
       "  </thead>\n",
       "  <tbody>\n",
       "    <tr>\n",
       "      <th>0</th>\n",
       "      <td>1</td>\n",
       "      <td>2020-07-24</td>\n",
       "      <td>ARI</td>\n",
       "      <td>SDP</td>\n",
       "      <td>2020</td>\n",
       "      <td>2019</td>\n",
       "      <td>NaN</td>\n",
       "      <td>NaN</td>\n",
       "    </tr>\n",
       "    <tr>\n",
       "      <th>1</th>\n",
       "      <td>2</td>\n",
       "      <td>2020-07-25</td>\n",
       "      <td>ARI</td>\n",
       "      <td>SDP</td>\n",
       "      <td>2020</td>\n",
       "      <td>2019</td>\n",
       "      <td>NaN</td>\n",
       "      <td>NaN</td>\n",
       "    </tr>\n",
       "    <tr>\n",
       "      <th>2</th>\n",
       "      <td>3</td>\n",
       "      <td>2020-07-26</td>\n",
       "      <td>ARI</td>\n",
       "      <td>SDP</td>\n",
       "      <td>2020</td>\n",
       "      <td>2019</td>\n",
       "      <td>NaN</td>\n",
       "      <td>NaN</td>\n",
       "    </tr>\n",
       "    <tr>\n",
       "      <th>3</th>\n",
       "      <td>4</td>\n",
       "      <td>2020-07-27</td>\n",
       "      <td>ARI</td>\n",
       "      <td>SDP</td>\n",
       "      <td>2020</td>\n",
       "      <td>2019</td>\n",
       "      <td>NaN</td>\n",
       "      <td>NaN</td>\n",
       "    </tr>\n",
       "    <tr>\n",
       "      <th>4</th>\n",
       "      <td>5</td>\n",
       "      <td>2020-07-28</td>\n",
       "      <td>ARI</td>\n",
       "      <td>TEX</td>\n",
       "      <td>2020</td>\n",
       "      <td>2019</td>\n",
       "      <td>NaN</td>\n",
       "      <td>NaN</td>\n",
       "    </tr>\n",
       "  </tbody>\n",
       "</table>\n",
       "</div>"
      ],
      "text/plain": [
       "   Game Number        Date Team_x Opponent  Year  Previous Year  Season  Win%\n",
       "0            1  2020-07-24    ARI      SDP  2020           2019     NaN   NaN\n",
       "1            2  2020-07-25    ARI      SDP  2020           2019     NaN   NaN\n",
       "2            3  2020-07-26    ARI      SDP  2020           2019     NaN   NaN\n",
       "3            4  2020-07-27    ARI      SDP  2020           2019     NaN   NaN\n",
       "4            5  2020-07-28    ARI      TEX  2020           2019     NaN   NaN"
      ]
     },
     "execution_count": 35,
     "metadata": {},
     "output_type": "execute_result"
    }
   ],
   "source": [
    "#join game_results with season results. \n",
    "game_data['Previous Year'] = game_data['Year'] - 1\n",
    "\n",
    "analysis_data = pd.merge(\n",
    "    game_data[['Game Number', 'Date', 'Team', 'Opponent','Year', 'Previous Year']], \n",
    "    season_results[['Season', 'Team', 'Win%']], \n",
    "    how='left', \n",
    "    left_on=['Opponent', 'Previous Year'], \n",
    "    right_on=['Team', 'Season'],   \n",
    "    ).drop(['Team_y'], axis=1)\n",
    "\n",
    "analysis_data.head()\n"
   ]
  },
  {
   "cell_type": "code",
   "execution_count": 45,
   "id": "0db7e9cf",
   "metadata": {},
   "outputs": [
    {
     "data": {
      "application/vnd.microsoft.datawrangler.viewer.v0+json": {
       "columns": [
        {
         "name": "('Team_x', 'Year')",
         "rawType": "object",
         "type": "string"
        },
        {
         "name": "Mean",
         "rawType": "float64",
         "type": "float"
        }
       ],
       "conversionMethod": "pd.DataFrame",
       "ref": "274b5d1d-97b3-4e38-9307-646ead1808c5",
       "rows": [
        [
         "('ARI', 2021)",
         "0.5125"
        ],
        [
         "('ARI', 2022)",
         "0.49333333333333335"
        ],
        [
         "('ARI', 2023)",
         "0.5416666666666666"
        ],
        [
         "('ARI', 2024)",
         "0.47846666666666665"
        ],
        [
         "('ARI', 2025)",
         "0.5140666666666667"
        ],
        [
         "('ATH', 2025)",
         "0.4593666666666667"
        ],
        [
         "('ATL', 2021)",
         "0.49846666666666667"
        ],
        [
         "('ATL', 2022)",
         "0.4829666666666667"
        ],
        [
         "('ATL', 2023)",
         "0.4966"
        ],
        [
         "('ATL', 2024)",
         "0.5157"
        ],
        [
         "('ATL', 2025)",
         "0.5106666666666667"
        ],
        [
         "('BAL', 2021)",
         "0.46187500000000004"
        ],
        [
         "('BAL', 2022)",
         "0.5337307692307692"
        ],
        [
         "('BAL', 2023)",
         "0.45423076923076927"
        ],
        [
         "('BAL', 2024)",
         "0.46166666666666667"
        ],
        [
         "('BAL', 2025)",
         "0.5089"
        ],
        [
         "('BOS', 2021)",
         "0.4944"
        ],
        [
         "('BOS', 2022)",
         "0.5125"
        ],
        [
         "('BOS', 2023)",
         "0.4892666666666667"
        ],
        [
         "('BOS', 2024)",
         "0.4985555555555556"
        ],
        [
         "('BOS', 2025)",
         "0.4505"
        ],
        [
         "('CHC', 2021)",
         "0.4871333333333333"
        ],
        [
         "('CHC', 2022)",
         "0.5227999999999999"
        ],
        [
         "('CHC', 2023)",
         "0.5195185185185186"
        ],
        [
         "('CHC', 2024)",
         "0.5142666666666666"
        ],
        [
         "('CHC', 2025)",
         "0.5626666666666666"
        ],
        [
         "('CHW', 2021)",
         "0.42304545454545456"
        ],
        [
         "('CHW', 2022)",
         "0.50864"
        ],
        [
         "('CHW', 2023)",
         "0.5252333333333333"
        ],
        [
         "('CHW', 2024)",
         "0.49323333333333336"
        ],
        [
         "('CHW', 2025)",
         "0.5065416666666667"
        ],
        [
         "('CIN', 2021)",
         "0.5008461538461538"
        ],
        [
         "('CIN', 2022)",
         "0.5300357142857143"
        ],
        [
         "('CIN', 2023)",
         "0.487925925925926"
        ],
        [
         "('CIN', 2024)",
         "0.5030666666666667"
        ],
        [
         "('CIN', 2025)",
         "0.4891666666666667"
        ],
        [
         "('CLE', 2021)",
         "0.5065000000000001"
        ],
        [
         "('CLE', 2022)",
         "0.5381481481481482"
        ],
        [
         "('CLE', 2023)",
         "0.48774074074074075"
        ],
        [
         "('CLE', 2024)",
         "0.5111739130434783"
        ],
        [
         "('CLE', 2025)",
         "0.4895"
        ],
        [
         "('COL', 2021)",
         "0.5156"
        ],
        [
         "('COL', 2022)",
         "0.4814333333333333"
        ],
        [
         "('COL', 2023)",
         "0.5073000000000001"
        ],
        [
         "('COL', 2024)",
         "0.5373333333333333"
        ],
        [
         "('COL', 2025)",
         "0.5362222222222223"
        ],
        [
         "('DET', 2021)",
         "0.48655"
        ],
        [
         "('DET', 2022)",
         "0.5294074074074074"
        ],
        [
         "('DET', 2023)",
         "0.5483999999999999"
        ],
        [
         "('DET', 2024)",
         "0.48844444444444446"
        ]
       ],
       "shape": {
        "columns": 1,
        "rows": 150
       }
      },
      "text/html": [
       "<div>\n",
       "<style scoped>\n",
       "    .dataframe tbody tr th:only-of-type {\n",
       "        vertical-align: middle;\n",
       "    }\n",
       "\n",
       "    .dataframe tbody tr th {\n",
       "        vertical-align: top;\n",
       "    }\n",
       "\n",
       "    .dataframe thead th {\n",
       "        text-align: right;\n",
       "    }\n",
       "</style>\n",
       "<table border=\"1\" class=\"dataframe\">\n",
       "  <thead>\n",
       "    <tr style=\"text-align: right;\">\n",
       "      <th></th>\n",
       "      <th></th>\n",
       "      <th>Mean</th>\n",
       "    </tr>\n",
       "    <tr>\n",
       "      <th>Team_x</th>\n",
       "      <th>Year</th>\n",
       "      <th></th>\n",
       "    </tr>\n",
       "  </thead>\n",
       "  <tbody>\n",
       "    <tr>\n",
       "      <th rowspan=\"5\" valign=\"top\">ARI</th>\n",
       "      <th>2021</th>\n",
       "      <td>0.512500</td>\n",
       "    </tr>\n",
       "    <tr>\n",
       "      <th>2022</th>\n",
       "      <td>0.493333</td>\n",
       "    </tr>\n",
       "    <tr>\n",
       "      <th>2023</th>\n",
       "      <td>0.541667</td>\n",
       "    </tr>\n",
       "    <tr>\n",
       "      <th>2024</th>\n",
       "      <td>0.478467</td>\n",
       "    </tr>\n",
       "    <tr>\n",
       "      <th>2025</th>\n",
       "      <td>0.514067</td>\n",
       "    </tr>\n",
       "    <tr>\n",
       "      <th>...</th>\n",
       "      <th>...</th>\n",
       "      <td>...</td>\n",
       "    </tr>\n",
       "    <tr>\n",
       "      <th rowspan=\"5\" valign=\"top\">WSN</th>\n",
       "      <th>2021</th>\n",
       "      <td>0.532833</td>\n",
       "    </tr>\n",
       "    <tr>\n",
       "      <th>2022</th>\n",
       "      <td>0.478000</td>\n",
       "    </tr>\n",
       "    <tr>\n",
       "      <th>2023</th>\n",
       "      <td>0.501833</td>\n",
       "    </tr>\n",
       "    <tr>\n",
       "      <th>2024</th>\n",
       "      <td>0.541296</td>\n",
       "    </tr>\n",
       "    <tr>\n",
       "      <th>2025</th>\n",
       "      <td>0.507167</td>\n",
       "    </tr>\n",
       "  </tbody>\n",
       "</table>\n",
       "<p>150 rows × 1 columns</p>\n",
       "</div>"
      ],
      "text/plain": [
       "                 Mean\n",
       "Team_x Year          \n",
       "ARI    2021  0.512500\n",
       "       2022  0.493333\n",
       "       2023  0.541667\n",
       "       2024  0.478467\n",
       "       2025  0.514067\n",
       "...               ...\n",
       "WSN    2021  0.532833\n",
       "       2022  0.478000\n",
       "       2023  0.501833\n",
       "       2024  0.541296\n",
       "       2025  0.507167\n",
       "\n",
       "[150 rows x 1 columns]"
      ]
     },
     "execution_count": 45,
     "metadata": {},
     "output_type": "execute_result"
    }
   ],
   "source": [
    "(analysis_data[(analysis_data['Date'] > '2021-01-01') & (analysis_data['Game Number'] <= 30)]\n",
    " .drop(['Previous Year', 'Season'], axis=1)\n",
    " .groupby(by = ['Team_x', 'Year'], group_keys=False)\n",
    " .agg(\n",
    "     Mean = ('Win%', np.mean)\n",
    " )\n",
    " #.agg(Mean = ('Mean', np.max))\n",
    " )\n"
   ]
  },
  {
   "cell_type": "code",
   "execution_count": null,
   "id": "b7560c37",
   "metadata": {},
   "outputs": [],
   "source": []
  }
 ],
 "metadata": {
  "kernelspec": {
   "display_name": "venv",
   "language": "python",
   "name": "python3"
  },
  "language_info": {
   "codemirror_mode": {
    "name": "ipython",
    "version": 3
   },
   "file_extension": ".py",
   "mimetype": "text/x-python",
   "name": "python",
   "nbconvert_exporter": "python",
   "pygments_lexer": "ipython3",
   "version": "3.7.4"
  }
 },
 "nbformat": 4,
 "nbformat_minor": 5
}
