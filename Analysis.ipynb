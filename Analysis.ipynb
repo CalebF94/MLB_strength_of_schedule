{
 "cells": [
  {
   "cell_type": "markdown",
   "id": "ab153e5e",
   "metadata": {},
   "source": [
    "# Major League Baseball Strength of Schedule\n",
    "\n",
    "The 2025 MLB season began on March 25th in Tokyo, Japan when the Chicago Cubs played the defending World Series champions the Los Angeles Dodgers. Starting the season against the defending champs can be a tall task, and unfortunately for Cubs their schedule was expected to continue to be tough well into April and May. The Cubs opponents were a common talking point during Cubs broadcasts. It was often stated that the Cubs had the hardest strength of schedule (SOS) to open the 2025 season. Every time the broadcast began talking on SOS, I would ask myself a few questions: \n",
    "1. How is strengh of schedule measured\n",
    "2. How much harder is the Cubs schedule\n",
    "3. How does the 2025 season compare to previous seasons\n",
    "\n",
    "These questions led me to develop the following research questions\n",
    "1. Opponents previous season win percentage\n",
    "2. Opponents previous season run differential\n",
    "3. Who had the hardest 2025 opening schedule? What about easiest\n",
    "4. Distribution of previous years opponents win% "
   ]
  },
  {
   "cell_type": "code",
   "execution_count": 46,
   "id": "d6c92f47",
   "metadata": {},
   "outputs": [],
   "source": [
    "import pandas as pd\n",
    "import numpy as np\n",
    "\n",
    "df_game_data = pd.read_csv(\"./clean_data/game_results.csv\").drop(columns=['H/A', 'win_loss', 'game_time', 'day_night', 'attendance','game_length',])\n",
    "df_season_data = pd.read_csv(\"./clean_data/season_results.csv\").fillna({'teams': 'LAA'})"
   ]
  },
  {
   "cell_type": "markdown",
   "id": "0b0a329e",
   "metadata": {},
   "source": [
    "## Description of Data\n",
    "\n",
    "Add description of both tables here"
   ]
  },
  {
   "cell_type": "code",
   "execution_count": 47,
   "id": "5c7e2564",
   "metadata": {},
   "outputs": [
    {
     "name": "stdout",
     "output_type": "stream",
     "text": [
      "Dimensions of game data: (46740, 7)\n",
      "Dimensions of season data: (330, 7)\n"
     ]
    }
   ],
   "source": [
    "print(f'Dimensions of game data: {df_game_data.shape}')\n",
    "print(f'Dimensions of season data: {df_season_data.shape}')"
   ]
  },
  {
   "cell_type": "markdown",
   "id": "ff54c3e8",
   "metadata": {},
   "source": [
    "There was one blank value in the `df_season_data` caused by Los Angeles Angels because they changed their name"
   ]
  },
  {
   "cell_type": "markdown",
   "id": "5b44b939",
   "metadata": {},
   "source": [
    "## Merge description"
   ]
  },
  {
   "cell_type": "code",
   "execution_count": 57,
   "id": "f9dcd682",
   "metadata": {},
   "outputs": [
    {
     "data": {
      "application/vnd.microsoft.datawrangler.viewer.v0+json": {
       "columns": [
        {
         "name": "index",
         "rawType": "int64",
         "type": "integer"
        },
        {
         "name": "date",
         "rawType": "object",
         "type": "string"
        },
        {
         "name": "team",
         "rawType": "object",
         "type": "string"
        },
        {
         "name": "opponent",
         "rawType": "object",
         "type": "string"
        },
        {
         "name": "runs_scored",
         "rawType": "int64",
         "type": "integer"
        },
        {
         "name": "runs_allowed",
         "rawType": "int64",
         "type": "integer"
        },
        {
         "name": "game_number",
         "rawType": "int64",
         "type": "integer"
        },
        {
         "name": "season",
         "rawType": "int64",
         "type": "integer"
        },
        {
         "name": "opponent_win%",
         "rawType": "float64",
         "type": "float"
        }
       ],
       "conversionMethod": "pd.DataFrame",
       "ref": "90cf2d31-5437-47d6-ab5d-df5d6e54882b",
       "rows": [
        [
         "4858",
         "2016-04-04",
         "ARI",
         "COL",
         "5",
         "10",
         "1",
         "2016",
         "0.42"
        ],
        [
         "4859",
         "2016-04-05",
         "ARI",
         "COL",
         "11",
         "6",
         "2",
         "2016",
         "0.42"
        ],
        [
         "4860",
         "2016-04-06",
         "ARI",
         "COL",
         "3",
         "4",
         "3",
         "2016",
         "0.42"
        ],
        [
         "4861",
         "2016-04-07",
         "ARI",
         "CHC",
         "6",
         "14",
         "4",
         "2016",
         "0.599"
        ],
        [
         "4862",
         "2016-04-08",
         "ARI",
         "CHC",
         "3",
         "2",
         "5",
         "2016",
         "0.599"
        ]
       ],
       "shape": {
        "columns": 8,
        "rows": 5
       }
      },
      "text/html": [
       "<div>\n",
       "<style scoped>\n",
       "    .dataframe tbody tr th:only-of-type {\n",
       "        vertical-align: middle;\n",
       "    }\n",
       "\n",
       "    .dataframe tbody tr th {\n",
       "        vertical-align: top;\n",
       "    }\n",
       "\n",
       "    .dataframe thead th {\n",
       "        text-align: right;\n",
       "    }\n",
       "</style>\n",
       "<table border=\"1\" class=\"dataframe\">\n",
       "  <thead>\n",
       "    <tr style=\"text-align: right;\">\n",
       "      <th></th>\n",
       "      <th>date</th>\n",
       "      <th>team</th>\n",
       "      <th>opponent</th>\n",
       "      <th>runs_scored</th>\n",
       "      <th>runs_allowed</th>\n",
       "      <th>game_number</th>\n",
       "      <th>season</th>\n",
       "      <th>opponent_win%</th>\n",
       "    </tr>\n",
       "  </thead>\n",
       "  <tbody>\n",
       "    <tr>\n",
       "      <th>4858</th>\n",
       "      <td>2016-04-04</td>\n",
       "      <td>ARI</td>\n",
       "      <td>COL</td>\n",
       "      <td>5</td>\n",
       "      <td>10</td>\n",
       "      <td>1</td>\n",
       "      <td>2016</td>\n",
       "      <td>0.420</td>\n",
       "    </tr>\n",
       "    <tr>\n",
       "      <th>4859</th>\n",
       "      <td>2016-04-05</td>\n",
       "      <td>ARI</td>\n",
       "      <td>COL</td>\n",
       "      <td>11</td>\n",
       "      <td>6</td>\n",
       "      <td>2</td>\n",
       "      <td>2016</td>\n",
       "      <td>0.420</td>\n",
       "    </tr>\n",
       "    <tr>\n",
       "      <th>4860</th>\n",
       "      <td>2016-04-06</td>\n",
       "      <td>ARI</td>\n",
       "      <td>COL</td>\n",
       "      <td>3</td>\n",
       "      <td>4</td>\n",
       "      <td>3</td>\n",
       "      <td>2016</td>\n",
       "      <td>0.420</td>\n",
       "    </tr>\n",
       "    <tr>\n",
       "      <th>4861</th>\n",
       "      <td>2016-04-07</td>\n",
       "      <td>ARI</td>\n",
       "      <td>CHC</td>\n",
       "      <td>6</td>\n",
       "      <td>14</td>\n",
       "      <td>4</td>\n",
       "      <td>2016</td>\n",
       "      <td>0.599</td>\n",
       "    </tr>\n",
       "    <tr>\n",
       "      <th>4862</th>\n",
       "      <td>2016-04-08</td>\n",
       "      <td>ARI</td>\n",
       "      <td>CHC</td>\n",
       "      <td>3</td>\n",
       "      <td>2</td>\n",
       "      <td>5</td>\n",
       "      <td>2016</td>\n",
       "      <td>0.599</td>\n",
       "    </tr>\n",
       "  </tbody>\n",
       "</table>\n",
       "</div>"
      ],
      "text/plain": [
       "            date team opponent  runs_scored  runs_allowed  game_number  \\\n",
       "4858  2016-04-04  ARI      COL            5            10            1   \n",
       "4859  2016-04-05  ARI      COL           11             6            2   \n",
       "4860  2016-04-06  ARI      COL            3             4            3   \n",
       "4861  2016-04-07  ARI      CHC            6            14            4   \n",
       "4862  2016-04-08  ARI      CHC            3             2            5   \n",
       "\n",
       "      season  opponent_win%  \n",
       "4858    2016          0.420  \n",
       "4859    2016          0.420  \n",
       "4860    2016          0.420  \n",
       "4861    2016          0.599  \n",
       "4862    2016          0.599  "
      ]
     },
     "execution_count": 57,
     "metadata": {},
     "output_type": "execute_result"
    }
   ],
   "source": [
    "#join data on team and year\n",
    "# need to offset the season in the game data\n",
    "\n",
    "df_game_data = df_game_data.assign(previous_season=lambda x: x.season-1) \n",
    "\n",
    "df_merge_data = (\n",
    "    pd.merge(df_game_data, df_season_data.loc[:, ['teams', 'season', 'win_%']], how='left', left_on=['opponent', 'previous_season'], right_on=['teams', 'season'])\n",
    "    .dropna(subset=['teams'])\n",
    "    .drop(columns=['season_y', 'previous_season', 'teams'])\n",
    "    .rename(columns={'win_%': 'opponent_win%', 'season_x': 'season'})\n",
    ")\n",
    "#6214 records => good\n",
    "\n",
    "df_merge_data.head()"
   ]
  },
  {
   "cell_type": "code",
   "execution_count": 69,
   "id": "fa05f51e",
   "metadata": {},
   "outputs": [
    {
     "data": {
      "application/vnd.microsoft.datawrangler.viewer.v0+json": {
       "columns": [
        {
         "name": "('team', 'season')",
         "rawType": "object",
         "type": "string"
        },
        {
         "name": "runs_scored",
         "rawType": "float64",
         "type": "float"
        },
        {
         "name": "runs_allowed",
         "rawType": "float64",
         "type": "float"
        },
        {
         "name": "game_number",
         "rawType": "float64",
         "type": "float"
        },
        {
         "name": "opponent_win%",
         "rawType": "float64",
         "type": "float"
        }
       ],
       "conversionMethod": "pd.DataFrame",
       "ref": "9c1e78ca-016e-4e09-96d4-1d6bea82aaa0",
       "rows": [
        [
         "('NYY', 2024)",
         "4.944444444444445",
         "3.4444444444444446",
         "20.055555555555557",
         "0.5497222222222222"
        ],
        [
         "('DET', 2023)",
         "3.575",
         "4.575",
         "20.5",
         "0.548225"
        ],
        [
         "('TOR', 2022)",
         "3.5675675675675675",
         "3.864864864864865",
         "21.43243243243243",
         "0.5468378378378379"
        ],
        [
         "('ARI', 2018)",
         "4.1",
         "3.4",
         "20.5",
         "0.54545"
        ],
        [
         "('MIL', 2021)",
         "3.575",
         "4.0",
         "20.5",
         "0.545275"
        ],
        [
         "('PHI', 2017)",
         "4.575",
         "5.025",
         "20.5",
         "0.5448999999999999"
        ],
        [
         "('CHC', 2025)",
         "5.775",
         "4.425",
         "20.5",
         "0.5427500000000001"
        ],
        [
         "('TEX', 2019)",
         "5.685714285714286",
         "5.428571428571429",
         "20.771428571428572",
         "0.5394285714285714"
        ],
        [
         "('LAA', 2017)",
         "3.8",
         "4.533333333333333",
         "21.2",
         "0.5389"
        ],
        [
         "('WSN', 2024)",
         "4.216216216216216",
         "4.324324324324325",
         "21.027027027027028",
         "0.5374054054054054"
        ],
        [
         "('SFG', 2020)",
         "5.243243243243243",
         "4.972972972972973",
         "20.37837837837838",
         "0.5368378378378378"
        ],
        [
         "('BAL', 2022)",
         "3.6666666666666665",
         "4.388888888888889",
         "21.5",
         "0.5361944444444444"
        ],
        [
         "('TBR', 2017)",
         "4.5",
         "4.175",
         "20.5",
         "0.5347999999999999"
        ],
        [
         "('ARI', 2019)",
         "5.05",
         "4.675",
         "20.5",
         "0.5345"
        ],
        [
         "('TEX', 2022)",
         "4.081081081081081",
         "4.513513513513513",
         "21.027027027027028",
         "0.532945945945946"
        ],
        [
         "('PIT', 2021)",
         "3.45",
         "4.55",
         "20.5",
         "0.532825"
        ],
        [
         "('TEX', 2018)",
         "4.181818181818182",
         "5.606060606060606",
         "21.78787878787879",
         "0.5326060606060606"
        ],
        [
         "('BAL', 2019)",
         "3.8055555555555554",
         "5.527777777777778",
         "21.5",
         "0.5325000000000001"
        ],
        [
         "('SDP', 2018)",
         "3.725",
         "4.95",
         "20.5",
         "0.5322"
        ],
        [
         "('MIA', 2023)",
         "3.45",
         "4.9",
         "20.5",
         "0.53075"
        ],
        [
         "('ATL', 2016)",
         "3.2",
         "5.05",
         "20.5",
         "0.5302"
        ],
        [
         "('CLE', 2022)",
         "4.378378378378378",
         "4.4324324324324325",
         "20.45945945945946",
         "0.5301351351351351"
        ],
        [
         "('ARI', 2025)",
         "5.125",
         "5.0",
         "20.5",
         "0.529775"
        ],
        [
         "('COL', 2024)",
         "3.825",
         "5.5",
         "20.5",
         "0.52945"
        ],
        [
         "('SDP', 2023)",
         "4.025",
         "4.175",
         "20.5",
         "0.5291"
        ],
        [
         "('SEA', 2016)",
         "4.676470588235294",
         "3.588235294117647",
         "21.38235294117647",
         "0.5289705882352941"
        ],
        [
         "('LAA', 2024)",
         "4.2",
         "5.075",
         "20.5",
         "0.527675"
        ],
        [
         "('DET', 2016)",
         "4.305555555555555",
         "4.805555555555555",
         "20.61111111111111",
         "0.5271111111111111"
        ],
        [
         "('SFG', 2018)",
         "3.9",
         "4.725",
         "20.5",
         "0.5264249999999999"
        ],
        [
         "('COL', 2025)",
         "3.325",
         "6.525",
         "20.5",
         "0.5261750000000001"
        ],
        [
         "('MIA', 2019)",
         "2.625",
         "5.0",
         "20.5",
         "0.52615"
        ],
        [
         "('MIL', 2019)",
         "4.925",
         "4.7",
         "20.5",
         "0.5258499999999999"
        ],
        [
         "('PHI', 2020)",
         "5.325",
         "5.45",
         "20.5",
         "0.52515"
        ],
        [
         "('MIN', 2017)",
         "4.216216216216216",
         "4.594594594594595",
         "20.135135135135137",
         "0.525"
        ],
        [
         "('SFG', 2023)",
         "4.325",
         "5.0",
         "20.5",
         "0.5243"
        ],
        [
         "('LAA', 2018)",
         "4.787878787878788",
         "4.151515151515151",
         "23.727272727272727",
         "0.5237272727272728"
        ],
        [
         "('BAL', 2017)",
         "4.725",
         "4.425",
         "20.5",
         "0.5236500000000001"
        ],
        [
         "('ATL', 2020)",
         "5.55",
         "4.525",
         "20.5",
         "0.5233"
        ],
        [
         "('SEA', 2017)",
         "4.735294117647059",
         "4.852941176470588",
         "19.61764705882353",
         "0.523235294117647"
        ],
        [
         "('NYY', 2018)",
         "5.756756756756757",
         "4.0",
         "19.0",
         "0.5228378378378378"
        ],
        [
         "('WSN', 2021)",
         "3.85",
         "4.3",
         "20.5",
         "0.522625"
        ],
        [
         "('COL', 2021)",
         "4.825",
         "5.45",
         "20.5",
         "0.5226"
        ],
        [
         "('NYM', 2024)",
         "4.3",
         "4.3",
         "20.5",
         "0.5226"
        ],
        [
         "('SDP', 2020)",
         "5.6923076923076925",
         "4.461538461538462",
         "20.0",
         "0.5223333333333333"
        ],
        [
         "('CIN', 2016)",
         "4.175",
         "5.975",
         "20.5",
         "0.5223"
        ],
        [
         "('TOR', 2025)",
         "3.9",
         "4.45",
         "20.5",
         "0.522275"
        ],
        [
         "('LAA', 2020)",
         "5.033333333333333",
         "5.7",
         "22.4",
         "0.5216333333333334"
        ],
        [
         "('NYY', 2020)",
         "4.675",
         "4.45",
         "20.5",
         "0.521625"
        ],
        [
         "('OAK', 2021)",
         "4.1",
         "4.3",
         "20.5",
         "0.521425"
        ],
        [
         "('SEA', 2022)",
         "3.875",
         "4.4",
         "20.5",
         "0.521225"
        ]
       ],
       "shape": {
        "columns": 4,
        "rows": 300
       }
      },
      "text/html": [
       "<div>\n",
       "<style scoped>\n",
       "    .dataframe tbody tr th:only-of-type {\n",
       "        vertical-align: middle;\n",
       "    }\n",
       "\n",
       "    .dataframe tbody tr th {\n",
       "        vertical-align: top;\n",
       "    }\n",
       "\n",
       "    .dataframe thead th {\n",
       "        text-align: right;\n",
       "    }\n",
       "</style>\n",
       "<table border=\"1\" class=\"dataframe\">\n",
       "  <thead>\n",
       "    <tr style=\"text-align: right;\">\n",
       "      <th></th>\n",
       "      <th></th>\n",
       "      <th>runs_scored</th>\n",
       "      <th>runs_allowed</th>\n",
       "      <th>game_number</th>\n",
       "      <th>opponent_win%</th>\n",
       "    </tr>\n",
       "    <tr>\n",
       "      <th>team</th>\n",
       "      <th>season</th>\n",
       "      <th></th>\n",
       "      <th></th>\n",
       "      <th></th>\n",
       "      <th></th>\n",
       "    </tr>\n",
       "  </thead>\n",
       "  <tbody>\n",
       "    <tr>\n",
       "      <th>NYY</th>\n",
       "      <th>2024</th>\n",
       "      <td>4.944444</td>\n",
       "      <td>3.444444</td>\n",
       "      <td>20.055556</td>\n",
       "      <td>0.549722</td>\n",
       "    </tr>\n",
       "    <tr>\n",
       "      <th>DET</th>\n",
       "      <th>2023</th>\n",
       "      <td>3.575000</td>\n",
       "      <td>4.575000</td>\n",
       "      <td>20.500000</td>\n",
       "      <td>0.548225</td>\n",
       "    </tr>\n",
       "    <tr>\n",
       "      <th>TOR</th>\n",
       "      <th>2022</th>\n",
       "      <td>3.567568</td>\n",
       "      <td>3.864865</td>\n",
       "      <td>21.432432</td>\n",
       "      <td>0.546838</td>\n",
       "    </tr>\n",
       "    <tr>\n",
       "      <th>ARI</th>\n",
       "      <th>2018</th>\n",
       "      <td>4.100000</td>\n",
       "      <td>3.400000</td>\n",
       "      <td>20.500000</td>\n",
       "      <td>0.545450</td>\n",
       "    </tr>\n",
       "    <tr>\n",
       "      <th>MIL</th>\n",
       "      <th>2021</th>\n",
       "      <td>3.575000</td>\n",
       "      <td>4.000000</td>\n",
       "      <td>20.500000</td>\n",
       "      <td>0.545275</td>\n",
       "    </tr>\n",
       "    <tr>\n",
       "      <th>...</th>\n",
       "      <th>...</th>\n",
       "      <td>...</td>\n",
       "      <td>...</td>\n",
       "      <td>...</td>\n",
       "      <td>...</td>\n",
       "    </tr>\n",
       "    <tr>\n",
       "      <th>NYY</th>\n",
       "      <th>2019</th>\n",
       "      <td>5.000000</td>\n",
       "      <td>4.100000</td>\n",
       "      <td>20.500000</td>\n",
       "      <td>0.459900</td>\n",
       "    </tr>\n",
       "    <tr>\n",
       "      <th rowspan=\"2\" valign=\"top\">BOS</th>\n",
       "      <th>2025</th>\n",
       "      <td>4.800000</td>\n",
       "      <td>4.350000</td>\n",
       "      <td>20.500000</td>\n",
       "      <td>0.459450</td>\n",
       "    </tr>\n",
       "    <tr>\n",
       "      <th>2019</th>\n",
       "      <td>5.424242</td>\n",
       "      <td>5.000000</td>\n",
       "      <td>21.333333</td>\n",
       "      <td>0.450606</td>\n",
       "    </tr>\n",
       "    <tr>\n",
       "      <th rowspan=\"2\" valign=\"top\">MIN</th>\n",
       "      <th>2020</th>\n",
       "      <td>4.375000</td>\n",
       "      <td>3.500000</td>\n",
       "      <td>20.500000</td>\n",
       "      <td>0.448050</td>\n",
       "    </tr>\n",
       "    <tr>\n",
       "      <th>2021</th>\n",
       "      <td>4.705882</td>\n",
       "      <td>5.205882</td>\n",
       "      <td>19.441176</td>\n",
       "      <td>0.447029</td>\n",
       "    </tr>\n",
       "  </tbody>\n",
       "</table>\n",
       "<p>300 rows × 4 columns</p>\n",
       "</div>"
      ],
      "text/plain": [
       "             runs_scored  runs_allowed  game_number  opponent_win%\n",
       "team season                                                       \n",
       "NYY  2024       4.944444      3.444444    20.055556       0.549722\n",
       "DET  2023       3.575000      4.575000    20.500000       0.548225\n",
       "TOR  2022       3.567568      3.864865    21.432432       0.546838\n",
       "ARI  2018       4.100000      3.400000    20.500000       0.545450\n",
       "MIL  2021       3.575000      4.000000    20.500000       0.545275\n",
       "...                  ...           ...          ...            ...\n",
       "NYY  2019       5.000000      4.100000    20.500000       0.459900\n",
       "BOS  2025       4.800000      4.350000    20.500000       0.459450\n",
       "     2019       5.424242      5.000000    21.333333       0.450606\n",
       "MIN  2020       4.375000      3.500000    20.500000       0.448050\n",
       "     2021       4.705882      5.205882    19.441176       0.447029\n",
       "\n",
       "[300 rows x 4 columns]"
      ]
     },
     "execution_count": 69,
     "metadata": {},
     "output_type": "execute_result"
    }
   ],
   "source": [
    "df_merge_data.loc[df_merge_data['game_number']<=40].groupby(['team', 'season']).agg('mean').sort_values(by = 'opponent_win%', ascending=False)"
   ]
  },
  {
   "cell_type": "code",
   "execution_count": null,
   "id": "96912f9a",
   "metadata": {},
   "outputs": [],
   "source": []
  }
 ],
 "metadata": {
  "kernelspec": {
   "display_name": "venv",
   "language": "python",
   "name": "python3"
  },
  "language_info": {
   "codemirror_mode": {
    "name": "ipython",
    "version": 3
   },
   "file_extension": ".py",
   "mimetype": "text/x-python",
   "name": "python",
   "nbconvert_exporter": "python",
   "pygments_lexer": "ipython3",
   "version": "3.7.4"
  }
 },
 "nbformat": 4,
 "nbformat_minor": 5
}
