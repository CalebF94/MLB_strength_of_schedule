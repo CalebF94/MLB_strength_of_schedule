{
 "cells": [
  {
   "cell_type": "code",
   "execution_count": 63,
   "id": "d6c92f47",
   "metadata": {},
   "outputs": [],
   "source": [
    "import pandas as pd\n",
    "import numpy as np\n",
    "\n",
    "df_game_data_in = pd.read_csv(\"./raw_data/raw_game_results.csv\").drop(['Unnamed: 0'], axis=1)\n",
    "df_season_results_in = pd.read_csv(\"./raw_data/raw_season_results.csv\").drop(['Unnamed: 0'], axis=1)\n",
    "\n",
    "df_game_data = df_game_data_in\n",
    "df_season_results = df_season_results_in"
   ]
  },
  {
   "cell_type": "markdown",
   "id": "1ad743ba",
   "metadata": {},
   "source": [
    "df_game_data has 12 columns. Attendance in NaN for 2020. Appears to be from future games or Covid games in 2020. Games that were walkoffs have W or L followed by wo in the win_loss_result column. Data types are messed up. "
   ]
  },
  {
   "cell_type": "code",
   "execution_count": 64,
   "id": "de352a5e",
   "metadata": {},
   "outputs": [
    {
     "data": {
      "application/vnd.microsoft.datawrangler.viewer.v0+json": {
       "columns": [
        {
         "name": "index",
         "rawType": "int64",
         "type": "integer"
        },
        {
         "name": "Date",
         "rawType": "object",
         "type": "string"
        },
        {
         "name": "Team",
         "rawType": "object",
         "type": "string"
        },
        {
         "name": "H/A",
         "rawType": "object",
         "type": "string"
        },
        {
         "name": "Opponent",
         "rawType": "object",
         "type": "string"
        },
        {
         "name": "win_loss_result",
         "rawType": "object",
         "type": "string"
        },
        {
         "name": "Runs",
         "rawType": "float64",
         "type": "float"
        },
        {
         "name": "Runs Allowed",
         "rawType": "float64",
         "type": "float"
        },
        {
         "name": "Game Time",
         "rawType": "object",
         "type": "string"
        },
        {
         "name": "Day/Night",
         "rawType": "object",
         "type": "string"
        },
        {
         "name": "Attendance",
         "rawType": "object",
         "type": "string"
        },
        {
         "name": "Game Number",
         "rawType": "int64",
         "type": "integer"
        },
        {
         "name": "Year",
         "rawType": "int64",
         "type": "integer"
        }
       ],
       "conversionMethod": "pd.DataFrame",
       "ref": "9250ed06-1a94-4c81-a50c-b5e4de63643e",
       "rows": [
        [
         "40",
         "2020-09-06",
         "ARI",
         "A",
         "SFG",
         "L",
         "2.0",
         "4.0",
         "2:52",
         "D",
         null,
         "41",
         "2020"
        ],
        [
         "99",
         "2020-09-06",
         "ATL",
         "H",
         "WSN",
         "W",
         "10.0",
         "3.0",
         "3:26",
         "D",
         null,
         "40",
         "2020"
        ],
        [
         "159",
         "2020-09-06",
         "BAL",
         "H",
         "NYY",
         "W",
         "5.0",
         "1.0",
         "3:02",
         "D",
         null,
         "40",
         "2020"
        ],
        [
         "221",
         "2020-09-06",
         "BOS",
         "H",
         "TOR",
         "L",
         "8.0",
         "10.0",
         "4:23",
         "D",
         null,
         "42",
         "2020"
        ],
        [
         "280",
         "2020-09-06",
         "CHC",
         "H",
         "STL",
         "L",
         "3.0",
         "7.0",
         "3:17",
         "N",
         null,
         "41",
         "2020"
        ]
       ],
       "shape": {
        "columns": 12,
        "rows": 5
       }
      },
      "text/html": [
       "<div>\n",
       "<style scoped>\n",
       "    .dataframe tbody tr th:only-of-type {\n",
       "        vertical-align: middle;\n",
       "    }\n",
       "\n",
       "    .dataframe tbody tr th {\n",
       "        vertical-align: top;\n",
       "    }\n",
       "\n",
       "    .dataframe thead th {\n",
       "        text-align: right;\n",
       "    }\n",
       "</style>\n",
       "<table border=\"1\" class=\"dataframe\">\n",
       "  <thead>\n",
       "    <tr style=\"text-align: right;\">\n",
       "      <th></th>\n",
       "      <th>Date</th>\n",
       "      <th>Team</th>\n",
       "      <th>H/A</th>\n",
       "      <th>Opponent</th>\n",
       "      <th>win_loss_result</th>\n",
       "      <th>Runs</th>\n",
       "      <th>Runs Allowed</th>\n",
       "      <th>Game Time</th>\n",
       "      <th>Day/Night</th>\n",
       "      <th>Attendance</th>\n",
       "      <th>Game Number</th>\n",
       "      <th>Year</th>\n",
       "    </tr>\n",
       "  </thead>\n",
       "  <tbody>\n",
       "    <tr>\n",
       "      <th>40</th>\n",
       "      <td>2020-09-06</td>\n",
       "      <td>ARI</td>\n",
       "      <td>A</td>\n",
       "      <td>SFG</td>\n",
       "      <td>L</td>\n",
       "      <td>2.0</td>\n",
       "      <td>4.0</td>\n",
       "      <td>2:52</td>\n",
       "      <td>D</td>\n",
       "      <td>NaN</td>\n",
       "      <td>41</td>\n",
       "      <td>2020</td>\n",
       "    </tr>\n",
       "    <tr>\n",
       "      <th>99</th>\n",
       "      <td>2020-09-06</td>\n",
       "      <td>ATL</td>\n",
       "      <td>H</td>\n",
       "      <td>WSN</td>\n",
       "      <td>W</td>\n",
       "      <td>10.0</td>\n",
       "      <td>3.0</td>\n",
       "      <td>3:26</td>\n",
       "      <td>D</td>\n",
       "      <td>NaN</td>\n",
       "      <td>40</td>\n",
       "      <td>2020</td>\n",
       "    </tr>\n",
       "    <tr>\n",
       "      <th>159</th>\n",
       "      <td>2020-09-06</td>\n",
       "      <td>BAL</td>\n",
       "      <td>H</td>\n",
       "      <td>NYY</td>\n",
       "      <td>W</td>\n",
       "      <td>5.0</td>\n",
       "      <td>1.0</td>\n",
       "      <td>3:02</td>\n",
       "      <td>D</td>\n",
       "      <td>NaN</td>\n",
       "      <td>40</td>\n",
       "      <td>2020</td>\n",
       "    </tr>\n",
       "    <tr>\n",
       "      <th>221</th>\n",
       "      <td>2020-09-06</td>\n",
       "      <td>BOS</td>\n",
       "      <td>H</td>\n",
       "      <td>TOR</td>\n",
       "      <td>L</td>\n",
       "      <td>8.0</td>\n",
       "      <td>10.0</td>\n",
       "      <td>4:23</td>\n",
       "      <td>D</td>\n",
       "      <td>NaN</td>\n",
       "      <td>42</td>\n",
       "      <td>2020</td>\n",
       "    </tr>\n",
       "    <tr>\n",
       "      <th>280</th>\n",
       "      <td>2020-09-06</td>\n",
       "      <td>CHC</td>\n",
       "      <td>H</td>\n",
       "      <td>STL</td>\n",
       "      <td>L</td>\n",
       "      <td>3.0</td>\n",
       "      <td>7.0</td>\n",
       "      <td>3:17</td>\n",
       "      <td>N</td>\n",
       "      <td>NaN</td>\n",
       "      <td>41</td>\n",
       "      <td>2020</td>\n",
       "    </tr>\n",
       "  </tbody>\n",
       "</table>\n",
       "</div>"
      ],
      "text/plain": [
       "           Date Team H/A Opponent win_loss_result  Runs  Runs Allowed  \\\n",
       "40   2020-09-06  ARI   A      SFG               L   2.0           4.0   \n",
       "99   2020-09-06  ATL   H      WSN               W  10.0           3.0   \n",
       "159  2020-09-06  BAL   H      NYY               W   5.0           1.0   \n",
       "221  2020-09-06  BOS   H      TOR               L   8.0          10.0   \n",
       "280  2020-09-06  CHC   H      STL               L   3.0           7.0   \n",
       "\n",
       "    Game Time Day/Night Attendance  Game Number  Year  \n",
       "40       2:52         D        NaN           41  2020  \n",
       "99       3:26         D        NaN           40  2020  \n",
       "159      3:02         D        NaN           40  2020  \n",
       "221      4:23         D        NaN           42  2020  \n",
       "280      3:17         N        NaN           41  2020  "
      ]
     },
     "execution_count": 64,
     "metadata": {},
     "output_type": "execute_result"
    }
   ],
   "source": [
    "df_game_data.head(-10)\n",
    "df_game_data[df_game_data[\"Date\"]== '2020-09-06'].head(5)"
   ]
  },
  {
   "cell_type": "markdown",
   "id": "de60283d",
   "metadata": {},
   "source": [
    "For this analysis I can focus only on games that have a result"
   ]
  },
  {
   "cell_type": "code",
   "execution_count": 65,
   "id": "20034468",
   "metadata": {},
   "outputs": [
    {
     "name": "stdout",
     "output_type": "stream",
     "text": [
      "average attendance: 26221.0\n"
     ]
    }
   ],
   "source": [
    "df_game_data = df_game_data[df_game_data['win_loss_result'].notna()]\n",
    "avg_attendance = round(df_game_data.loc[:, 'Attendance'].str.replace(\",\", \"\").dropna().astype('int').mean(),0) #will use to impute missing attendance numbers\n",
    "print(f'average attendance: {avg_attendance}')"
   ]
  },
  {
   "cell_type": "markdown",
   "id": "be533f7f",
   "metadata": {},
   "source": [
    "Need to resolve some data type issues so I can do math. Attendance has a comma that needs to be removed. Win_loss_result has and appended '-wo' for games ending in a walk off, "
   ]
  },
  {
   "cell_type": "code",
   "execution_count": 66,
   "id": "7b3690c0",
   "metadata": {},
   "outputs": [],
   "source": [
    "#converting attendance into number and setting nulls to the average\n",
    "# need regex=True for partial string matches\n",
    "df_game_data = df_game_data.fillna({'Attendance': str(avg_attendance)}).replace({'Attendance': ',', 'win_loss_result': '-wo'}, '', regex=True)\n",
    "\n",
    "#2020 had legit zero attendance...setting backto zero\n",
    "df_game_data.loc[df_game_data['Date']<'2021-01-01', 'Attendance'] = 0\n"
   ]
  },
  {
   "cell_type": "markdown",
   "id": "e133793a",
   "metadata": {},
   "source": [
    "Game time also needs to be adjusted. Currently the data is read as H:MM and is an object data type. Going to convert to minutes. Steps to do that include:  \n",
    "1. split at the delimiter of ':'\n",
    "2. multiply the first item by 60 \n",
    "3. add the second item to the first\n",
    "\n",
    "I'm going to attempt to do this using a custom function"
   ]
  },
  {
   "cell_type": "code",
   "execution_count": 67,
   "id": "279a0b8d",
   "metadata": {},
   "outputs": [],
   "source": [
    "def game_time_to_minutes(game_time):\n",
    "\n",
    "    if type(game_time) is str: game_time = str(game_time)\n",
    "\n",
    "    minutes = (float(game_time.split(':')[0]) *60) + float(game_time.split(':')[1])\n",
    "\n",
    "    return(minutes)\n",
    "\n",
    "#test = game_time_to_minutes('2:30')\n",
    "#print(test)\n"
   ]
  },
  {
   "cell_type": "code",
   "execution_count": 68,
   "id": "b24fc16e",
   "metadata": {},
   "outputs": [],
   "source": [
    "df_game_data['Length Minutes'] = df_game_data['Game Time'].apply(game_time_to_minutes)"
   ]
  },
  {
   "cell_type": "code",
   "execution_count": 69,
   "id": "2062de89",
   "metadata": {},
   "outputs": [
    {
     "data": {
      "text/plain": [
       "Date               datetime64[ns]\n",
       "Team                       string\n",
       "H/A                        string\n",
       "Opponent                   string\n",
       "win_loss_result            string\n",
       "Runs                        int32\n",
       "Runs Allowed                int32\n",
       "Game Time                  string\n",
       "Day/Night                  string\n",
       "Attendance                float64\n",
       "Game Number                 int32\n",
       "Year                        int32\n",
       "Length Minutes            float64\n",
       "dtype: object"
      ]
     },
     "execution_count": 69,
     "metadata": {},
     "output_type": "execute_result"
    }
   ],
   "source": [
    "data_types = {\n",
    "    'Date': 'datetime64[ns]',\n",
    "    'Team': 'string',\n",
    "    'H/A': 'string',\n",
    "    'Opponent':'string',\n",
    "    'win_loss_result':'string',\n",
    "    'Runs': 'int',\n",
    "    'Runs Allowed': 'int',\n",
    "    'Game Time':'string',\n",
    "    'Day/Night': 'string',\n",
    "    'Attendance':'float',\n",
    "    'Game Number': 'int',\n",
    "    'Year':'int'\n",
    "}\n",
    "\n",
    "df_game_data = df_game_data.astype(data_types)\n",
    "df_game_data.dtypes"
   ]
  },
  {
   "cell_type": "code",
   "execution_count": null,
   "id": "1e322267",
   "metadata": {},
   "outputs": [],
   "source": []
  },
  {
   "cell_type": "markdown",
   "id": "bd0035b4",
   "metadata": {},
   "source": [
    "The season results looks good. The GB column -- for teams that won, or are in first in their division. The GB column needs to be changed to 0 for the teams that took 1st"
   ]
  },
  {
   "cell_type": "code",
   "execution_count": 70,
   "id": "529f1c41",
   "metadata": {},
   "outputs": [
    {
     "data": {
      "application/vnd.microsoft.datawrangler.viewer.v0+json": {
       "columns": [
        {
         "name": "index",
         "rawType": "int64",
         "type": "integer"
        },
        {
         "name": "Season",
         "rawType": "int64",
         "type": "integer"
        },
        {
         "name": "Team Name",
         "rawType": "object",
         "type": "string"
        },
        {
         "name": "Wins",
         "rawType": "int64",
         "type": "integer"
        },
        {
         "name": "Losses",
         "rawType": "int64",
         "type": "integer"
        },
        {
         "name": "Win%",
         "rawType": "float64",
         "type": "float"
        },
        {
         "name": "GB",
         "rawType": "object",
         "type": "string"
        },
        {
         "name": "Team",
         "rawType": "object",
         "type": "string"
        }
       ],
       "conversionMethod": "pd.DataFrame",
       "ref": "42289d4c-8fba-49df-9dfe-32b721bfa58c",
       "rows": [
        [
         "0",
         "2020",
         "Tampa Bay Rays",
         "40",
         "20",
         "0.667",
         "--",
         "TBR"
        ],
        [
         "1",
         "2020",
         "New York Yankees",
         "33",
         "27",
         "0.55",
         "7.0",
         "NYY"
        ],
        [
         "2",
         "2020",
         "Toronto Blue Jays",
         "32",
         "28",
         "0.533",
         "8.0",
         "TOR"
        ],
        [
         "3",
         "2020",
         "Baltimore Orioles",
         "25",
         "35",
         "0.417",
         "15.0",
         "BAL"
        ],
        [
         "4",
         "2020",
         "Boston Red Sox",
         "24",
         "36",
         "0.4",
         "16.0",
         "BOS"
        ],
        [
         "5",
         "2020",
         "Minnesota Twins",
         "36",
         "24",
         "0.6",
         "--",
         "MIN"
        ],
        [
         "6",
         "2020",
         "Cleveland Indians",
         "35",
         "25",
         "0.583",
         "1.0",
         null
        ],
        [
         "7",
         "2020",
         "Chicago White Sox",
         "35",
         "25",
         "0.583",
         "1.0",
         "CHW"
        ],
        [
         "8",
         "2020",
         "Kansas City Royals",
         "26",
         "34",
         "0.433",
         "10.0",
         "KCR"
        ],
        [
         "9",
         "2020",
         "Detroit Tigers",
         "23",
         "35",
         "0.397",
         "12.0",
         "DET"
        ],
        [
         "10",
         "2020",
         "Oakland Athletics",
         "36",
         "24",
         "0.6",
         "--",
         null
        ],
        [
         "11",
         "2020",
         "Houston Astros",
         "29",
         "31",
         "0.483",
         "7.0",
         "HOU"
        ],
        [
         "12",
         "2020",
         "Seattle Mariners",
         "27",
         "33",
         "0.45",
         "9.0",
         "SEA"
        ],
        [
         "13",
         "2020",
         "Los Angeles Angels",
         "26",
         "34",
         "0.433",
         "10.0",
         "LAA"
        ],
        [
         "14",
         "2020",
         "Texas Rangers",
         "22",
         "38",
         "0.367",
         "14.0",
         "TEX"
        ],
        [
         "15",
         "2020",
         "Atlanta Braves",
         "35",
         "25",
         "0.583",
         "--",
         "ATL"
        ],
        [
         "16",
         "2020",
         "Miami Marlins",
         "31",
         "29",
         "0.517",
         "4.0",
         "MIA"
        ],
        [
         "17",
         "2020",
         "Philadelphia Phillies",
         "28",
         "32",
         "0.467",
         "7.0",
         "PHI"
        ],
        [
         "18",
         "2020",
         "New York Mets",
         "26",
         "34",
         "0.433",
         "9.0",
         "NYM"
        ],
        [
         "19",
         "2020",
         "Washington Nationals",
         "26",
         "34",
         "0.433",
         "9.0",
         "WSN"
        ],
        [
         "20",
         "2020",
         "Chicago Cubs",
         "34",
         "26",
         "0.567",
         "--",
         "CHC"
        ],
        [
         "21",
         "2020",
         "St. Louis Cardinals",
         "30",
         "28",
         "0.517",
         "3.0",
         "STL"
        ],
        [
         "22",
         "2020",
         "Cincinnati Reds",
         "31",
         "29",
         "0.517",
         "3.0",
         "CIN"
        ],
        [
         "23",
         "2020",
         "Milwaukee Brewers",
         "29",
         "31",
         "0.483",
         "5.0",
         "MIL"
        ],
        [
         "24",
         "2020",
         "Pittsburgh Pirates",
         "19",
         "41",
         "0.317",
         "15.0",
         "PIT"
        ],
        [
         "25",
         "2020",
         "Los Angeles Dodgers",
         "43",
         "17",
         "0.717",
         "--",
         "LAD"
        ],
        [
         "26",
         "2020",
         "San Diego Padres",
         "37",
         "23",
         "0.617",
         "6.0",
         "SDP"
        ],
        [
         "27",
         "2020",
         "San Francisco Giants",
         "29",
         "31",
         "0.483",
         "14.0",
         "SFG"
        ],
        [
         "28",
         "2020",
         "Colorado Rockies",
         "26",
         "34",
         "0.433",
         "17.0",
         "COL"
        ],
        [
         "29",
         "2020",
         "Arizona Diamondbacks",
         "25",
         "35",
         "0.417",
         "18.0",
         "ARI"
        ],
        [
         "30",
         "2021",
         "Tampa Bay Rays",
         "100",
         "62",
         "0.617",
         "--",
         "TBR"
        ],
        [
         "31",
         "2021",
         "Boston Red Sox",
         "92",
         "70",
         "0.568",
         "8.0",
         "BOS"
        ],
        [
         "32",
         "2021",
         "New York Yankees",
         "92",
         "70",
         "0.568",
         "8.0",
         "NYY"
        ],
        [
         "33",
         "2021",
         "Toronto Blue Jays",
         "91",
         "71",
         "0.562",
         "9.0",
         "TOR"
        ],
        [
         "34",
         "2021",
         "Baltimore Orioles",
         "52",
         "110",
         "0.321",
         "48.0",
         "BAL"
        ],
        [
         "35",
         "2021",
         "Chicago White Sox",
         "93",
         "69",
         "0.574",
         "--",
         "CHW"
        ],
        [
         "36",
         "2021",
         "Cleveland Indians",
         "80",
         "82",
         "0.494",
         "13.0",
         null
        ],
        [
         "37",
         "2021",
         "Detroit Tigers",
         "77",
         "85",
         "0.475",
         "16.0",
         "DET"
        ],
        [
         "38",
         "2021",
         "Kansas City Royals",
         "74",
         "88",
         "0.457",
         "19.0",
         "KCR"
        ],
        [
         "39",
         "2021",
         "Minnesota Twins",
         "73",
         "89",
         "0.451",
         "20.0",
         "MIN"
        ],
        [
         "40",
         "2021",
         "Houston Astros",
         "95",
         "67",
         "0.586",
         "--",
         "HOU"
        ],
        [
         "41",
         "2021",
         "Seattle Mariners",
         "90",
         "72",
         "0.556",
         "5.0",
         "SEA"
        ],
        [
         "42",
         "2021",
         "Oakland Athletics",
         "86",
         "76",
         "0.531",
         "9.0",
         null
        ],
        [
         "43",
         "2021",
         "Los Angeles Angels",
         "77",
         "85",
         "0.475",
         "18.0",
         "LAA"
        ],
        [
         "44",
         "2021",
         "Texas Rangers",
         "60",
         "102",
         "0.37",
         "35.0",
         "TEX"
        ],
        [
         "45",
         "2021",
         "Atlanta Braves",
         "88",
         "73",
         "0.547",
         "--",
         "ATL"
        ],
        [
         "46",
         "2021",
         "Philadelphia Phillies",
         "82",
         "80",
         "0.506",
         "6.5",
         "PHI"
        ],
        [
         "47",
         "2021",
         "New York Mets",
         "77",
         "85",
         "0.475",
         "11.5",
         "NYM"
        ],
        [
         "48",
         "2021",
         "Miami Marlins",
         "67",
         "95",
         "0.414",
         "21.5",
         "MIA"
        ],
        [
         "49",
         "2021",
         "Washington Nationals",
         "65",
         "97",
         "0.401",
         "23.5",
         "WSN"
        ]
       ],
       "shape": {
        "columns": 7,
        "rows": 180
       }
      },
      "text/html": [
       "<div>\n",
       "<style scoped>\n",
       "    .dataframe tbody tr th:only-of-type {\n",
       "        vertical-align: middle;\n",
       "    }\n",
       "\n",
       "    .dataframe tbody tr th {\n",
       "        vertical-align: top;\n",
       "    }\n",
       "\n",
       "    .dataframe thead th {\n",
       "        text-align: right;\n",
       "    }\n",
       "</style>\n",
       "<table border=\"1\" class=\"dataframe\">\n",
       "  <thead>\n",
       "    <tr style=\"text-align: right;\">\n",
       "      <th></th>\n",
       "      <th>Season</th>\n",
       "      <th>Team Name</th>\n",
       "      <th>Wins</th>\n",
       "      <th>Losses</th>\n",
       "      <th>Win%</th>\n",
       "      <th>GB</th>\n",
       "      <th>Team</th>\n",
       "    </tr>\n",
       "  </thead>\n",
       "  <tbody>\n",
       "    <tr>\n",
       "      <th>0</th>\n",
       "      <td>2020</td>\n",
       "      <td>Tampa Bay Rays</td>\n",
       "      <td>40</td>\n",
       "      <td>20</td>\n",
       "      <td>0.667</td>\n",
       "      <td>--</td>\n",
       "      <td>TBR</td>\n",
       "    </tr>\n",
       "    <tr>\n",
       "      <th>1</th>\n",
       "      <td>2020</td>\n",
       "      <td>New York Yankees</td>\n",
       "      <td>33</td>\n",
       "      <td>27</td>\n",
       "      <td>0.550</td>\n",
       "      <td>7.0</td>\n",
       "      <td>NYY</td>\n",
       "    </tr>\n",
       "    <tr>\n",
       "      <th>2</th>\n",
       "      <td>2020</td>\n",
       "      <td>Toronto Blue Jays</td>\n",
       "      <td>32</td>\n",
       "      <td>28</td>\n",
       "      <td>0.533</td>\n",
       "      <td>8.0</td>\n",
       "      <td>TOR</td>\n",
       "    </tr>\n",
       "    <tr>\n",
       "      <th>3</th>\n",
       "      <td>2020</td>\n",
       "      <td>Baltimore Orioles</td>\n",
       "      <td>25</td>\n",
       "      <td>35</td>\n",
       "      <td>0.417</td>\n",
       "      <td>15.0</td>\n",
       "      <td>BAL</td>\n",
       "    </tr>\n",
       "    <tr>\n",
       "      <th>4</th>\n",
       "      <td>2020</td>\n",
       "      <td>Boston Red Sox</td>\n",
       "      <td>24</td>\n",
       "      <td>36</td>\n",
       "      <td>0.400</td>\n",
       "      <td>16.0</td>\n",
       "      <td>BOS</td>\n",
       "    </tr>\n",
       "    <tr>\n",
       "      <th>...</th>\n",
       "      <td>...</td>\n",
       "      <td>...</td>\n",
       "      <td>...</td>\n",
       "      <td>...</td>\n",
       "      <td>...</td>\n",
       "      <td>...</td>\n",
       "      <td>...</td>\n",
       "    </tr>\n",
       "    <tr>\n",
       "      <th>175</th>\n",
       "      <td>2025</td>\n",
       "      <td>Los Angeles Dodgers</td>\n",
       "      <td>24</td>\n",
       "      <td>12</td>\n",
       "      <td>0.667</td>\n",
       "      <td>--</td>\n",
       "      <td>LAD</td>\n",
       "    </tr>\n",
       "    <tr>\n",
       "      <th>176</th>\n",
       "      <td>2025</td>\n",
       "      <td>San Diego Padres</td>\n",
       "      <td>23</td>\n",
       "      <td>12</td>\n",
       "      <td>0.657</td>\n",
       "      <td>0.5</td>\n",
       "      <td>SDP</td>\n",
       "    </tr>\n",
       "    <tr>\n",
       "      <th>177</th>\n",
       "      <td>2025</td>\n",
       "      <td>San Francisco Giants</td>\n",
       "      <td>23</td>\n",
       "      <td>14</td>\n",
       "      <td>0.622</td>\n",
       "      <td>1.5</td>\n",
       "      <td>SFG</td>\n",
       "    </tr>\n",
       "    <tr>\n",
       "      <th>178</th>\n",
       "      <td>2025</td>\n",
       "      <td>Arizona Diamondbacks</td>\n",
       "      <td>19</td>\n",
       "      <td>17</td>\n",
       "      <td>0.528</td>\n",
       "      <td>5.0</td>\n",
       "      <td>ARI</td>\n",
       "    </tr>\n",
       "    <tr>\n",
       "      <th>179</th>\n",
       "      <td>2025</td>\n",
       "      <td>Colorado Rockies</td>\n",
       "      <td>6</td>\n",
       "      <td>28</td>\n",
       "      <td>0.176</td>\n",
       "      <td>17.0</td>\n",
       "      <td>COL</td>\n",
       "    </tr>\n",
       "  </tbody>\n",
       "</table>\n",
       "<p>180 rows × 7 columns</p>\n",
       "</div>"
      ],
      "text/plain": [
       "     Season             Team Name  Wins  Losses   Win%    GB Team\n",
       "0      2020        Tampa Bay Rays    40      20  0.667    --  TBR\n",
       "1      2020      New York Yankees    33      27  0.550   7.0  NYY\n",
       "2      2020     Toronto Blue Jays    32      28  0.533   8.0  TOR\n",
       "3      2020     Baltimore Orioles    25      35  0.417  15.0  BAL\n",
       "4      2020        Boston Red Sox    24      36  0.400  16.0  BOS\n",
       "..      ...                   ...   ...     ...    ...   ...  ...\n",
       "175    2025   Los Angeles Dodgers    24      12  0.667    --  LAD\n",
       "176    2025      San Diego Padres    23      12  0.657   0.5  SDP\n",
       "177    2025  San Francisco Giants    23      14  0.622   1.5  SFG\n",
       "178    2025  Arizona Diamondbacks    19      17  0.528   5.0  ARI\n",
       "179    2025      Colorado Rockies     6      28  0.176  17.0  COL\n",
       "\n",
       "[180 rows x 7 columns]"
      ]
     },
     "execution_count": 70,
     "metadata": {},
     "output_type": "execute_result"
    }
   ],
   "source": [
    "df_season_results"
   ]
  },
  {
   "cell_type": "code",
   "execution_count": null,
   "id": "3ce8e7ec",
   "metadata": {},
   "outputs": [],
   "source": [
    "#Handling blanks \n",
    "df_season_results.loc[:, 'GB'] = df_season_results.loc[: 'GB'].mask(df_season_results.loc[:, 'GB']=='--', '0')\n",
    "df_season_results.loc[:, 'Team'] = df_season_results.loc[: 'Team'].mask(df_season_results.loc[:, 'Team Name'].str.contains('Athletics'), 'ATH')\n",
    "df_season_results.loc[:, 'Team'] = df_season_results.loc[: 'Team'].mask(df_season_results.loc[:, 'Team Name'].str.contains('Cleveland'), 'CLE')"
   ]
  },
  {
   "cell_type": "code",
   "execution_count": 75,
   "id": "2db4ad80",
   "metadata": {},
   "outputs": [
    {
     "data": {
      "application/vnd.microsoft.datawrangler.viewer.v0+json": {
       "columns": [
        {
         "name": "index",
         "rawType": "int64",
         "type": "integer"
        },
        {
         "name": "Season",
         "rawType": "int32",
         "type": "integer"
        },
        {
         "name": "Team Name",
         "rawType": "object",
         "type": "string"
        },
        {
         "name": "Wins",
         "rawType": "int32",
         "type": "integer"
        },
        {
         "name": "Losses",
         "rawType": "int32",
         "type": "integer"
        },
        {
         "name": "Win%",
         "rawType": "float64",
         "type": "float"
        },
        {
         "name": "GB",
         "rawType": "float64",
         "type": "float"
        },
        {
         "name": "Team",
         "rawType": "object",
         "type": "string"
        }
       ],
       "conversionMethod": "pd.DataFrame",
       "ref": "445439ab-2d9b-4de5-8d68-e5e023ab7726",
       "rows": [
        [
         "0",
         "2020",
         "Tampa Bay Rays",
         "40",
         "20",
         "0.667",
         "0.0",
         "TBR"
        ],
        [
         "1",
         "2020",
         "New York Yankees",
         "33",
         "27",
         "0.55",
         "7.0",
         "NYY"
        ],
        [
         "2",
         "2020",
         "Toronto Blue Jays",
         "32",
         "28",
         "0.533",
         "8.0",
         "TOR"
        ],
        [
         "3",
         "2020",
         "Baltimore Orioles",
         "25",
         "35",
         "0.417",
         "15.0",
         "BAL"
        ],
        [
         "4",
         "2020",
         "Boston Red Sox",
         "24",
         "36",
         "0.4",
         "16.0",
         "BOS"
        ],
        [
         "5",
         "2020",
         "Minnesota Twins",
         "36",
         "24",
         "0.6",
         "0.0",
         "MIN"
        ],
        [
         "6",
         "2020",
         "Cleveland Indians",
         "35",
         "25",
         "0.583",
         "1.0",
         "CLE"
        ],
        [
         "7",
         "2020",
         "Chicago White Sox",
         "35",
         "25",
         "0.583",
         "1.0",
         "CHW"
        ],
        [
         "8",
         "2020",
         "Kansas City Royals",
         "26",
         "34",
         "0.433",
         "10.0",
         "KCR"
        ],
        [
         "9",
         "2020",
         "Detroit Tigers",
         "23",
         "35",
         "0.397",
         "12.0",
         "DET"
        ],
        [
         "10",
         "2020",
         "Oakland Athletics",
         "36",
         "24",
         "0.6",
         "0.0",
         "ATH"
        ],
        [
         "11",
         "2020",
         "Houston Astros",
         "29",
         "31",
         "0.483",
         "7.0",
         "HOU"
        ],
        [
         "12",
         "2020",
         "Seattle Mariners",
         "27",
         "33",
         "0.45",
         "9.0",
         "SEA"
        ],
        [
         "13",
         "2020",
         "Los Angeles Angels",
         "26",
         "34",
         "0.433",
         "10.0",
         "LAA"
        ],
        [
         "14",
         "2020",
         "Texas Rangers",
         "22",
         "38",
         "0.367",
         "14.0",
         "TEX"
        ],
        [
         "15",
         "2020",
         "Atlanta Braves",
         "35",
         "25",
         "0.583",
         "0.0",
         "ATL"
        ],
        [
         "16",
         "2020",
         "Miami Marlins",
         "31",
         "29",
         "0.517",
         "4.0",
         "MIA"
        ],
        [
         "17",
         "2020",
         "Philadelphia Phillies",
         "28",
         "32",
         "0.467",
         "7.0",
         "PHI"
        ],
        [
         "18",
         "2020",
         "New York Mets",
         "26",
         "34",
         "0.433",
         "9.0",
         "NYM"
        ],
        [
         "19",
         "2020",
         "Washington Nationals",
         "26",
         "34",
         "0.433",
         "9.0",
         "WSN"
        ],
        [
         "20",
         "2020",
         "Chicago Cubs",
         "34",
         "26",
         "0.567",
         "0.0",
         "CHC"
        ],
        [
         "21",
         "2020",
         "St. Louis Cardinals",
         "30",
         "28",
         "0.517",
         "3.0",
         "STL"
        ],
        [
         "22",
         "2020",
         "Cincinnati Reds",
         "31",
         "29",
         "0.517",
         "3.0",
         "CIN"
        ],
        [
         "23",
         "2020",
         "Milwaukee Brewers",
         "29",
         "31",
         "0.483",
         "5.0",
         "MIL"
        ],
        [
         "24",
         "2020",
         "Pittsburgh Pirates",
         "19",
         "41",
         "0.317",
         "15.0",
         "PIT"
        ],
        [
         "25",
         "2020",
         "Los Angeles Dodgers",
         "43",
         "17",
         "0.717",
         "0.0",
         "LAD"
        ],
        [
         "26",
         "2020",
         "San Diego Padres",
         "37",
         "23",
         "0.617",
         "6.0",
         "SDP"
        ],
        [
         "27",
         "2020",
         "San Francisco Giants",
         "29",
         "31",
         "0.483",
         "14.0",
         "SFG"
        ],
        [
         "28",
         "2020",
         "Colorado Rockies",
         "26",
         "34",
         "0.433",
         "17.0",
         "COL"
        ],
        [
         "29",
         "2020",
         "Arizona Diamondbacks",
         "25",
         "35",
         "0.417",
         "18.0",
         "ARI"
        ],
        [
         "30",
         "2021",
         "Tampa Bay Rays",
         "100",
         "62",
         "0.617",
         "0.0",
         "TBR"
        ],
        [
         "31",
         "2021",
         "Boston Red Sox",
         "92",
         "70",
         "0.568",
         "8.0",
         "BOS"
        ],
        [
         "32",
         "2021",
         "New York Yankees",
         "92",
         "70",
         "0.568",
         "8.0",
         "NYY"
        ],
        [
         "33",
         "2021",
         "Toronto Blue Jays",
         "91",
         "71",
         "0.562",
         "9.0",
         "TOR"
        ],
        [
         "34",
         "2021",
         "Baltimore Orioles",
         "52",
         "110",
         "0.321",
         "48.0",
         "BAL"
        ],
        [
         "35",
         "2021",
         "Chicago White Sox",
         "93",
         "69",
         "0.574",
         "0.0",
         "CHW"
        ],
        [
         "36",
         "2021",
         "Cleveland Indians",
         "80",
         "82",
         "0.494",
         "13.0",
         "CLE"
        ],
        [
         "37",
         "2021",
         "Detroit Tigers",
         "77",
         "85",
         "0.475",
         "16.0",
         "DET"
        ],
        [
         "38",
         "2021",
         "Kansas City Royals",
         "74",
         "88",
         "0.457",
         "19.0",
         "KCR"
        ],
        [
         "39",
         "2021",
         "Minnesota Twins",
         "73",
         "89",
         "0.451",
         "20.0",
         "MIN"
        ],
        [
         "40",
         "2021",
         "Houston Astros",
         "95",
         "67",
         "0.586",
         "0.0",
         "HOU"
        ],
        [
         "41",
         "2021",
         "Seattle Mariners",
         "90",
         "72",
         "0.556",
         "5.0",
         "SEA"
        ],
        [
         "42",
         "2021",
         "Oakland Athletics",
         "86",
         "76",
         "0.531",
         "9.0",
         "ATH"
        ],
        [
         "43",
         "2021",
         "Los Angeles Angels",
         "77",
         "85",
         "0.475",
         "18.0",
         "LAA"
        ],
        [
         "44",
         "2021",
         "Texas Rangers",
         "60",
         "102",
         "0.37",
         "35.0",
         "TEX"
        ],
        [
         "45",
         "2021",
         "Atlanta Braves",
         "88",
         "73",
         "0.547",
         "0.0",
         "ATL"
        ],
        [
         "46",
         "2021",
         "Philadelphia Phillies",
         "82",
         "80",
         "0.506",
         "6.5",
         "PHI"
        ],
        [
         "47",
         "2021",
         "New York Mets",
         "77",
         "85",
         "0.475",
         "11.5",
         "NYM"
        ],
        [
         "48",
         "2021",
         "Miami Marlins",
         "67",
         "95",
         "0.414",
         "21.5",
         "MIA"
        ],
        [
         "49",
         "2021",
         "Washington Nationals",
         "65",
         "97",
         "0.401",
         "23.5",
         "WSN"
        ]
       ],
       "shape": {
        "columns": 7,
        "rows": 180
       }
      },
      "text/html": [
       "<div>\n",
       "<style scoped>\n",
       "    .dataframe tbody tr th:only-of-type {\n",
       "        vertical-align: middle;\n",
       "    }\n",
       "\n",
       "    .dataframe tbody tr th {\n",
       "        vertical-align: top;\n",
       "    }\n",
       "\n",
       "    .dataframe thead th {\n",
       "        text-align: right;\n",
       "    }\n",
       "</style>\n",
       "<table border=\"1\" class=\"dataframe\">\n",
       "  <thead>\n",
       "    <tr style=\"text-align: right;\">\n",
       "      <th></th>\n",
       "      <th>Season</th>\n",
       "      <th>Team Name</th>\n",
       "      <th>Wins</th>\n",
       "      <th>Losses</th>\n",
       "      <th>Win%</th>\n",
       "      <th>GB</th>\n",
       "      <th>Team</th>\n",
       "    </tr>\n",
       "  </thead>\n",
       "  <tbody>\n",
       "    <tr>\n",
       "      <th>0</th>\n",
       "      <td>2020</td>\n",
       "      <td>Tampa Bay Rays</td>\n",
       "      <td>40</td>\n",
       "      <td>20</td>\n",
       "      <td>0.667</td>\n",
       "      <td>0.0</td>\n",
       "      <td>TBR</td>\n",
       "    </tr>\n",
       "    <tr>\n",
       "      <th>1</th>\n",
       "      <td>2020</td>\n",
       "      <td>New York Yankees</td>\n",
       "      <td>33</td>\n",
       "      <td>27</td>\n",
       "      <td>0.550</td>\n",
       "      <td>7.0</td>\n",
       "      <td>NYY</td>\n",
       "    </tr>\n",
       "    <tr>\n",
       "      <th>2</th>\n",
       "      <td>2020</td>\n",
       "      <td>Toronto Blue Jays</td>\n",
       "      <td>32</td>\n",
       "      <td>28</td>\n",
       "      <td>0.533</td>\n",
       "      <td>8.0</td>\n",
       "      <td>TOR</td>\n",
       "    </tr>\n",
       "    <tr>\n",
       "      <th>3</th>\n",
       "      <td>2020</td>\n",
       "      <td>Baltimore Orioles</td>\n",
       "      <td>25</td>\n",
       "      <td>35</td>\n",
       "      <td>0.417</td>\n",
       "      <td>15.0</td>\n",
       "      <td>BAL</td>\n",
       "    </tr>\n",
       "    <tr>\n",
       "      <th>4</th>\n",
       "      <td>2020</td>\n",
       "      <td>Boston Red Sox</td>\n",
       "      <td>24</td>\n",
       "      <td>36</td>\n",
       "      <td>0.400</td>\n",
       "      <td>16.0</td>\n",
       "      <td>BOS</td>\n",
       "    </tr>\n",
       "    <tr>\n",
       "      <th>...</th>\n",
       "      <td>...</td>\n",
       "      <td>...</td>\n",
       "      <td>...</td>\n",
       "      <td>...</td>\n",
       "      <td>...</td>\n",
       "      <td>...</td>\n",
       "      <td>...</td>\n",
       "    </tr>\n",
       "    <tr>\n",
       "      <th>175</th>\n",
       "      <td>2025</td>\n",
       "      <td>Los Angeles Dodgers</td>\n",
       "      <td>24</td>\n",
       "      <td>12</td>\n",
       "      <td>0.667</td>\n",
       "      <td>0.0</td>\n",
       "      <td>LAD</td>\n",
       "    </tr>\n",
       "    <tr>\n",
       "      <th>176</th>\n",
       "      <td>2025</td>\n",
       "      <td>San Diego Padres</td>\n",
       "      <td>23</td>\n",
       "      <td>12</td>\n",
       "      <td>0.657</td>\n",
       "      <td>0.5</td>\n",
       "      <td>SDP</td>\n",
       "    </tr>\n",
       "    <tr>\n",
       "      <th>177</th>\n",
       "      <td>2025</td>\n",
       "      <td>San Francisco Giants</td>\n",
       "      <td>23</td>\n",
       "      <td>14</td>\n",
       "      <td>0.622</td>\n",
       "      <td>1.5</td>\n",
       "      <td>SFG</td>\n",
       "    </tr>\n",
       "    <tr>\n",
       "      <th>178</th>\n",
       "      <td>2025</td>\n",
       "      <td>Arizona Diamondbacks</td>\n",
       "      <td>19</td>\n",
       "      <td>17</td>\n",
       "      <td>0.528</td>\n",
       "      <td>5.0</td>\n",
       "      <td>ARI</td>\n",
       "    </tr>\n",
       "    <tr>\n",
       "      <th>179</th>\n",
       "      <td>2025</td>\n",
       "      <td>Colorado Rockies</td>\n",
       "      <td>6</td>\n",
       "      <td>28</td>\n",
       "      <td>0.176</td>\n",
       "      <td>17.0</td>\n",
       "      <td>COL</td>\n",
       "    </tr>\n",
       "  </tbody>\n",
       "</table>\n",
       "<p>180 rows × 7 columns</p>\n",
       "</div>"
      ],
      "text/plain": [
       "     Season             Team Name  Wins  Losses   Win%    GB Team\n",
       "0      2020        Tampa Bay Rays    40      20  0.667   0.0  TBR\n",
       "1      2020      New York Yankees    33      27  0.550   7.0  NYY\n",
       "2      2020     Toronto Blue Jays    32      28  0.533   8.0  TOR\n",
       "3      2020     Baltimore Orioles    25      35  0.417  15.0  BAL\n",
       "4      2020        Boston Red Sox    24      36  0.400  16.0  BOS\n",
       "..      ...                   ...   ...     ...    ...   ...  ...\n",
       "175    2025   Los Angeles Dodgers    24      12  0.667   0.0  LAD\n",
       "176    2025      San Diego Padres    23      12  0.657   0.5  SDP\n",
       "177    2025  San Francisco Giants    23      14  0.622   1.5  SFG\n",
       "178    2025  Arizona Diamondbacks    19      17  0.528   5.0  ARI\n",
       "179    2025      Colorado Rockies     6      28  0.176  17.0  COL\n",
       "\n",
       "[180 rows x 7 columns]"
      ]
     },
     "execution_count": 75,
     "metadata": {},
     "output_type": "execute_result"
    }
   ],
   "source": [
    "data_types = {\n",
    "    'Season': int,\n",
    "    'Team Name': str,\n",
    "    'Wins': int,\n",
    "    'Losses': int,\n",
    "    'Win%': float,\n",
    "    'GB': float,\n",
    "    'Team': str\n",
    "}\n",
    "\n",
    "df_season_results.astype(data_types)"
   ]
  },
  {
   "cell_type": "code",
   "execution_count": null,
   "id": "5c09e487",
   "metadata": {},
   "outputs": [],
   "source": []
  },
  {
   "cell_type": "code",
   "execution_count": null,
   "id": "a477668c",
   "metadata": {},
   "outputs": [],
   "source": []
  },
  {
   "cell_type": "code",
   "execution_count": null,
   "id": "20cad77e",
   "metadata": {},
   "outputs": [],
   "source": []
  },
  {
   "cell_type": "code",
   "execution_count": null,
   "id": "4d5feb01",
   "metadata": {},
   "outputs": [],
   "source": []
  },
  {
   "cell_type": "code",
   "execution_count": 35,
   "id": "cb846eb6",
   "metadata": {},
   "outputs": [
    {
     "data": {
      "application/vnd.microsoft.datawrangler.viewer.v0+json": {
       "columns": [
        {
         "name": "index",
         "rawType": "int64",
         "type": "integer"
        },
        {
         "name": "Game Number",
         "rawType": "int64",
         "type": "integer"
        },
        {
         "name": "Date",
         "rawType": "object",
         "type": "string"
        },
        {
         "name": "Team_x",
         "rawType": "object",
         "type": "string"
        },
        {
         "name": "Opponent",
         "rawType": "object",
         "type": "string"
        },
        {
         "name": "Year",
         "rawType": "int64",
         "type": "integer"
        },
        {
         "name": "Previous Year",
         "rawType": "int64",
         "type": "integer"
        },
        {
         "name": "Season",
         "rawType": "float64",
         "type": "float"
        },
        {
         "name": "Win%",
         "rawType": "float64",
         "type": "float"
        }
       ],
       "conversionMethod": "pd.DataFrame",
       "ref": "99639f68-e645-45fe-b65c-7cf5a256b50f",
       "rows": [
        [
         "0",
         "1",
         "2020-07-24",
         "ARI",
         "SDP",
         "2020",
         "2019",
         null,
         null
        ],
        [
         "1",
         "2",
         "2020-07-25",
         "ARI",
         "SDP",
         "2020",
         "2019",
         null,
         null
        ],
        [
         "2",
         "3",
         "2020-07-26",
         "ARI",
         "SDP",
         "2020",
         "2019",
         null,
         null
        ],
        [
         "3",
         "4",
         "2020-07-27",
         "ARI",
         "SDP",
         "2020",
         "2019",
         null,
         null
        ],
        [
         "4",
         "5",
         "2020-07-28",
         "ARI",
         "TEX",
         "2020",
         "2019",
         null,
         null
        ]
       ],
       "shape": {
        "columns": 8,
        "rows": 5
       }
      },
      "text/html": [
       "<div>\n",
       "<style scoped>\n",
       "    .dataframe tbody tr th:only-of-type {\n",
       "        vertical-align: middle;\n",
       "    }\n",
       "\n",
       "    .dataframe tbody tr th {\n",
       "        vertical-align: top;\n",
       "    }\n",
       "\n",
       "    .dataframe thead th {\n",
       "        text-align: right;\n",
       "    }\n",
       "</style>\n",
       "<table border=\"1\" class=\"dataframe\">\n",
       "  <thead>\n",
       "    <tr style=\"text-align: right;\">\n",
       "      <th></th>\n",
       "      <th>Game Number</th>\n",
       "      <th>Date</th>\n",
       "      <th>Team_x</th>\n",
       "      <th>Opponent</th>\n",
       "      <th>Year</th>\n",
       "      <th>Previous Year</th>\n",
       "      <th>Season</th>\n",
       "      <th>Win%</th>\n",
       "    </tr>\n",
       "  </thead>\n",
       "  <tbody>\n",
       "    <tr>\n",
       "      <th>0</th>\n",
       "      <td>1</td>\n",
       "      <td>2020-07-24</td>\n",
       "      <td>ARI</td>\n",
       "      <td>SDP</td>\n",
       "      <td>2020</td>\n",
       "      <td>2019</td>\n",
       "      <td>NaN</td>\n",
       "      <td>NaN</td>\n",
       "    </tr>\n",
       "    <tr>\n",
       "      <th>1</th>\n",
       "      <td>2</td>\n",
       "      <td>2020-07-25</td>\n",
       "      <td>ARI</td>\n",
       "      <td>SDP</td>\n",
       "      <td>2020</td>\n",
       "      <td>2019</td>\n",
       "      <td>NaN</td>\n",
       "      <td>NaN</td>\n",
       "    </tr>\n",
       "    <tr>\n",
       "      <th>2</th>\n",
       "      <td>3</td>\n",
       "      <td>2020-07-26</td>\n",
       "      <td>ARI</td>\n",
       "      <td>SDP</td>\n",
       "      <td>2020</td>\n",
       "      <td>2019</td>\n",
       "      <td>NaN</td>\n",
       "      <td>NaN</td>\n",
       "    </tr>\n",
       "    <tr>\n",
       "      <th>3</th>\n",
       "      <td>4</td>\n",
       "      <td>2020-07-27</td>\n",
       "      <td>ARI</td>\n",
       "      <td>SDP</td>\n",
       "      <td>2020</td>\n",
       "      <td>2019</td>\n",
       "      <td>NaN</td>\n",
       "      <td>NaN</td>\n",
       "    </tr>\n",
       "    <tr>\n",
       "      <th>4</th>\n",
       "      <td>5</td>\n",
       "      <td>2020-07-28</td>\n",
       "      <td>ARI</td>\n",
       "      <td>TEX</td>\n",
       "      <td>2020</td>\n",
       "      <td>2019</td>\n",
       "      <td>NaN</td>\n",
       "      <td>NaN</td>\n",
       "    </tr>\n",
       "  </tbody>\n",
       "</table>\n",
       "</div>"
      ],
      "text/plain": [
       "   Game Number        Date Team_x Opponent  Year  Previous Year  Season  Win%\n",
       "0            1  2020-07-24    ARI      SDP  2020           2019     NaN   NaN\n",
       "1            2  2020-07-25    ARI      SDP  2020           2019     NaN   NaN\n",
       "2            3  2020-07-26    ARI      SDP  2020           2019     NaN   NaN\n",
       "3            4  2020-07-27    ARI      SDP  2020           2019     NaN   NaN\n",
       "4            5  2020-07-28    ARI      TEX  2020           2019     NaN   NaN"
      ]
     },
     "execution_count": 35,
     "metadata": {},
     "output_type": "execute_result"
    }
   ],
   "source": [
    "#join game_results with season results. \n",
    "game_data['Previous Year'] = game_data['Year'] - 1\n",
    "\n",
    "analysis_data = pd.merge(\n",
    "    game_data[['Game Number', 'Date', 'Team', 'Opponent','Year', 'Previous Year']], \n",
    "    season_results[['Season', 'Team', 'Win%']], \n",
    "    how='left', \n",
    "    left_on=['Opponent', 'Previous Year'], \n",
    "    right_on=['Team', 'Season'],   \n",
    "    ).drop(['Team_y'], axis=1)\n",
    "\n",
    "analysis_data.head()\n"
   ]
  },
  {
   "cell_type": "code",
   "execution_count": 45,
   "id": "0db7e9cf",
   "metadata": {},
   "outputs": [
    {
     "data": {
      "application/vnd.microsoft.datawrangler.viewer.v0+json": {
       "columns": [
        {
         "name": "('Team_x', 'Year')",
         "rawType": "object",
         "type": "string"
        },
        {
         "name": "Mean",
         "rawType": "float64",
         "type": "float"
        }
       ],
       "conversionMethod": "pd.DataFrame",
       "ref": "274b5d1d-97b3-4e38-9307-646ead1808c5",
       "rows": [
        [
         "('ARI', 2021)",
         "0.5125"
        ],
        [
         "('ARI', 2022)",
         "0.49333333333333335"
        ],
        [
         "('ARI', 2023)",
         "0.5416666666666666"
        ],
        [
         "('ARI', 2024)",
         "0.47846666666666665"
        ],
        [
         "('ARI', 2025)",
         "0.5140666666666667"
        ],
        [
         "('ATH', 2025)",
         "0.4593666666666667"
        ],
        [
         "('ATL', 2021)",
         "0.49846666666666667"
        ],
        [
         "('ATL', 2022)",
         "0.4829666666666667"
        ],
        [
         "('ATL', 2023)",
         "0.4966"
        ],
        [
         "('ATL', 2024)",
         "0.5157"
        ],
        [
         "('ATL', 2025)",
         "0.5106666666666667"
        ],
        [
         "('BAL', 2021)",
         "0.46187500000000004"
        ],
        [
         "('BAL', 2022)",
         "0.5337307692307692"
        ],
        [
         "('BAL', 2023)",
         "0.45423076923076927"
        ],
        [
         "('BAL', 2024)",
         "0.46166666666666667"
        ],
        [
         "('BAL', 2025)",
         "0.5089"
        ],
        [
         "('BOS', 2021)",
         "0.4944"
        ],
        [
         "('BOS', 2022)",
         "0.5125"
        ],
        [
         "('BOS', 2023)",
         "0.4892666666666667"
        ],
        [
         "('BOS', 2024)",
         "0.4985555555555556"
        ],
        [
         "('BOS', 2025)",
         "0.4505"
        ],
        [
         "('CHC', 2021)",
         "0.4871333333333333"
        ],
        [
         "('CHC', 2022)",
         "0.5227999999999999"
        ],
        [
         "('CHC', 2023)",
         "0.5195185185185186"
        ],
        [
         "('CHC', 2024)",
         "0.5142666666666666"
        ],
        [
         "('CHC', 2025)",
         "0.5626666666666666"
        ],
        [
         "('CHW', 2021)",
         "0.42304545454545456"
        ],
        [
         "('CHW', 2022)",
         "0.50864"
        ],
        [
         "('CHW', 2023)",
         "0.5252333333333333"
        ],
        [
         "('CHW', 2024)",
         "0.49323333333333336"
        ],
        [
         "('CHW', 2025)",
         "0.5065416666666667"
        ],
        [
         "('CIN', 2021)",
         "0.5008461538461538"
        ],
        [
         "('CIN', 2022)",
         "0.5300357142857143"
        ],
        [
         "('CIN', 2023)",
         "0.487925925925926"
        ],
        [
         "('CIN', 2024)",
         "0.5030666666666667"
        ],
        [
         "('CIN', 2025)",
         "0.4891666666666667"
        ],
        [
         "('CLE', 2021)",
         "0.5065000000000001"
        ],
        [
         "('CLE', 2022)",
         "0.5381481481481482"
        ],
        [
         "('CLE', 2023)",
         "0.48774074074074075"
        ],
        [
         "('CLE', 2024)",
         "0.5111739130434783"
        ],
        [
         "('CLE', 2025)",
         "0.4895"
        ],
        [
         "('COL', 2021)",
         "0.5156"
        ],
        [
         "('COL', 2022)",
         "0.4814333333333333"
        ],
        [
         "('COL', 2023)",
         "0.5073000000000001"
        ],
        [
         "('COL', 2024)",
         "0.5373333333333333"
        ],
        [
         "('COL', 2025)",
         "0.5362222222222223"
        ],
        [
         "('DET', 2021)",
         "0.48655"
        ],
        [
         "('DET', 2022)",
         "0.5294074074074074"
        ],
        [
         "('DET', 2023)",
         "0.5483999999999999"
        ],
        [
         "('DET', 2024)",
         "0.48844444444444446"
        ]
       ],
       "shape": {
        "columns": 1,
        "rows": 150
       }
      },
      "text/html": [
       "<div>\n",
       "<style scoped>\n",
       "    .dataframe tbody tr th:only-of-type {\n",
       "        vertical-align: middle;\n",
       "    }\n",
       "\n",
       "    .dataframe tbody tr th {\n",
       "        vertical-align: top;\n",
       "    }\n",
       "\n",
       "    .dataframe thead th {\n",
       "        text-align: right;\n",
       "    }\n",
       "</style>\n",
       "<table border=\"1\" class=\"dataframe\">\n",
       "  <thead>\n",
       "    <tr style=\"text-align: right;\">\n",
       "      <th></th>\n",
       "      <th></th>\n",
       "      <th>Mean</th>\n",
       "    </tr>\n",
       "    <tr>\n",
       "      <th>Team_x</th>\n",
       "      <th>Year</th>\n",
       "      <th></th>\n",
       "    </tr>\n",
       "  </thead>\n",
       "  <tbody>\n",
       "    <tr>\n",
       "      <th rowspan=\"5\" valign=\"top\">ARI</th>\n",
       "      <th>2021</th>\n",
       "      <td>0.512500</td>\n",
       "    </tr>\n",
       "    <tr>\n",
       "      <th>2022</th>\n",
       "      <td>0.493333</td>\n",
       "    </tr>\n",
       "    <tr>\n",
       "      <th>2023</th>\n",
       "      <td>0.541667</td>\n",
       "    </tr>\n",
       "    <tr>\n",
       "      <th>2024</th>\n",
       "      <td>0.478467</td>\n",
       "    </tr>\n",
       "    <tr>\n",
       "      <th>2025</th>\n",
       "      <td>0.514067</td>\n",
       "    </tr>\n",
       "    <tr>\n",
       "      <th>...</th>\n",
       "      <th>...</th>\n",
       "      <td>...</td>\n",
       "    </tr>\n",
       "    <tr>\n",
       "      <th rowspan=\"5\" valign=\"top\">WSN</th>\n",
       "      <th>2021</th>\n",
       "      <td>0.532833</td>\n",
       "    </tr>\n",
       "    <tr>\n",
       "      <th>2022</th>\n",
       "      <td>0.478000</td>\n",
       "    </tr>\n",
       "    <tr>\n",
       "      <th>2023</th>\n",
       "      <td>0.501833</td>\n",
       "    </tr>\n",
       "    <tr>\n",
       "      <th>2024</th>\n",
       "      <td>0.541296</td>\n",
       "    </tr>\n",
       "    <tr>\n",
       "      <th>2025</th>\n",
       "      <td>0.507167</td>\n",
       "    </tr>\n",
       "  </tbody>\n",
       "</table>\n",
       "<p>150 rows × 1 columns</p>\n",
       "</div>"
      ],
      "text/plain": [
       "                 Mean\n",
       "Team_x Year          \n",
       "ARI    2021  0.512500\n",
       "       2022  0.493333\n",
       "       2023  0.541667\n",
       "       2024  0.478467\n",
       "       2025  0.514067\n",
       "...               ...\n",
       "WSN    2021  0.532833\n",
       "       2022  0.478000\n",
       "       2023  0.501833\n",
       "       2024  0.541296\n",
       "       2025  0.507167\n",
       "\n",
       "[150 rows x 1 columns]"
      ]
     },
     "execution_count": 45,
     "metadata": {},
     "output_type": "execute_result"
    }
   ],
   "source": [
    "(analysis_data[(analysis_data['Date'] > '2021-01-01') & (analysis_data['Game Number'] <= 30)]\n",
    " .drop(['Previous Year', 'Season'], axis=1)\n",
    " .groupby(by = ['Team_x', 'Year'], group_keys=False)\n",
    " .agg(\n",
    "     Mean = ('Win%', np.mean)\n",
    " )\n",
    " #.agg(Mean = ('Mean', np.max))\n",
    " )\n"
   ]
  }
 ],
 "metadata": {
  "kernelspec": {
   "display_name": "venv",
   "language": "python",
   "name": "python3"
  },
  "language_info": {
   "codemirror_mode": {
    "name": "ipython",
    "version": 3
   },
   "file_extension": ".py",
   "mimetype": "text/x-python",
   "name": "python",
   "nbconvert_exporter": "python",
   "pygments_lexer": "ipython3",
   "version": "3.7.4"
  }
 },
 "nbformat": 4,
 "nbformat_minor": 5
}
